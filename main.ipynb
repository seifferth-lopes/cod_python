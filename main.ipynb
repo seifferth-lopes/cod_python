{
 "cells": [
  {
   "cell_type": "code",
   "execution_count": 1,
   "metadata": {},
   "outputs": [],
   "source": [
    "import pandas as pd\n",
    "import os"
   ]
  },
  {
   "cell_type": "code",
   "execution_count": 2,
   "metadata": {},
   "outputs": [],
   "source": [
    "def unificandoDf(diretorio):\n",
    "    # Lista de nomes de colunas\n",
    "    nomes_colunas = ['Colun' + str(i) for i in range(50)]\n",
    "\n",
    "    # Inicializa um DataFrame vazio para armazenar os base\n",
    "    base = pd.DataFrame(columns=nomes_colunas + ['Origem_Arquivo'])\n",
    "\n",
    "    # Lista para armazenar os nomes dos arquivos\n",
    "    nomes_arquivos = []\n",
    "    # Loop pelos arquivos no diretório\n",
    "    for arquivo in os.listdir(diretorio):\n",
    "        if arquivo.endswith('.csv'):\n",
    "            caminho_arquivo = os.path.join(diretorio, arquivo)\n",
    "            # Abre o arquivo CSV usando \";\" como delimitador\n",
    "            base_arquivo = pd.read_csv(caminho_arquivo, delimiter=';', names=nomes_colunas, encoding= 'latin-1')\n",
    "            # Adiciona uma coluna 'Origem_Arquivo' com o nome do arquivo ao DataFrame\n",
    "            base_arquivo['Origem_Arquivo'] = arquivo\n",
    "            # Adiciona os base do arquivo ao DataFrame principal\n",
    "            base = pd.concat([base, base_arquivo], ignore_index=True)\n",
    "\n",
    "    base.dropna(axis=1, how=\"all\", inplace= True)\n",
    "    txt = arquivo.split(\"_\")\n",
    "    saida = txt[0]\n",
    "    return base, saida"
   ]
  },
  {
   "cell_type": "code",
   "execution_count": 3,
   "metadata": {},
   "outputs": [],
   "source": [
    "# Caminho para os arquivos CSV do Balancete\n",
    "caminho_diretorio = r'G:\\Meu Drive\\Bases Dash Câmara BI\\Base Original Balancete'\n",
    "retornoDaFunc = unificandoDf(caminho_diretorio)\n",
    "base = retornoDaFunc[0]\n",
    "nameSalvar = retornoDaFunc[1]"
   ]
  },
  {
   "cell_type": "code",
   "execution_count": 4,
   "metadata": {},
   "outputs": [
    {
     "name": "stderr",
     "output_type": "stream",
     "text": [
      "C:\\Users\\seiff\\AppData\\Local\\Temp\\ipykernel_11120\\229720988.py:12: SettingWithCopyWarning: \n",
      "A value is trying to be set on a copy of a slice from a DataFrame\n",
      "\n",
      "See the caveats in the documentation: https://pandas.pydata.org/pandas-docs/stable/user_guide/indexing.html#returning-a-view-versus-a-copy\n",
      "  v10.dropna(axis=1, how=\"all\",inplace= True)\n",
      "C:\\Users\\seiff\\AppData\\Local\\Temp\\ipykernel_11120\\229720988.py:13: SettingWithCopyWarning: \n",
      "A value is trying to be set on a copy of a slice from a DataFrame\n",
      "\n",
      "See the caveats in the documentation: https://pandas.pydata.org/pandas-docs/stable/user_guide/indexing.html#returning-a-view-versus-a-copy\n",
      "  v11.dropna(axis=1, how=\"all\",inplace= True)\n",
      "C:\\Users\\seiff\\AppData\\Local\\Temp\\ipykernel_11120\\229720988.py:14: SettingWithCopyWarning: \n",
      "A value is trying to be set on a copy of a slice from a DataFrame\n",
      "\n",
      "See the caveats in the documentation: https://pandas.pydata.org/pandas-docs/stable/user_guide/indexing.html#returning-a-view-versus-a-copy\n",
      "  v14.dropna(axis=1, how=\"all\",inplace= True)\n",
      "C:\\Users\\seiff\\AppData\\Local\\Temp\\ipykernel_11120\\229720988.py:15: SettingWithCopyWarning: \n",
      "A value is trying to be set on a copy of a slice from a DataFrame\n",
      "\n",
      "See the caveats in the documentation: https://pandas.pydata.org/pandas-docs/stable/user_guide/indexing.html#returning-a-view-versus-a-copy\n",
      "  v15.dropna(axis=1, how=\"all\",inplace= True)\n",
      "C:\\Users\\seiff\\AppData\\Local\\Temp\\ipykernel_11120\\229720988.py:16: SettingWithCopyWarning: \n",
      "A value is trying to be set on a copy of a slice from a DataFrame\n",
      "\n",
      "See the caveats in the documentation: https://pandas.pydata.org/pandas-docs/stable/user_guide/indexing.html#returning-a-view-versus-a-copy\n",
      "  v16.dropna(axis=1, how=\"all\",inplace= True)\n",
      "C:\\Users\\seiff\\AppData\\Local\\Temp\\ipykernel_11120\\229720988.py:17: SettingWithCopyWarning: \n",
      "A value is trying to be set on a copy of a slice from a DataFrame\n",
      "\n",
      "See the caveats in the documentation: https://pandas.pydata.org/pandas-docs/stable/user_guide/indexing.html#returning-a-view-versus-a-copy\n",
      "  v17.dropna(axis=1, how=\"all\",inplace= True)\n",
      "C:\\Users\\seiff\\AppData\\Local\\Temp\\ipykernel_11120\\229720988.py:18: SettingWithCopyWarning: \n",
      "A value is trying to be set on a copy of a slice from a DataFrame\n",
      "\n",
      "See the caveats in the documentation: https://pandas.pydata.org/pandas-docs/stable/user_guide/indexing.html#returning-a-view-versus-a-copy\n",
      "  v18.dropna(axis=1, how=\"all\",inplace= True)\n",
      "C:\\Users\\seiff\\AppData\\Local\\Temp\\ipykernel_11120\\229720988.py:19: SettingWithCopyWarning: \n",
      "A value is trying to be set on a copy of a slice from a DataFrame\n",
      "\n",
      "See the caveats in the documentation: https://pandas.pydata.org/pandas-docs/stable/user_guide/indexing.html#returning-a-view-versus-a-copy\n",
      "  v24.dropna(axis=1, how=\"all\",inplace= True)\n",
      "C:\\Users\\seiff\\AppData\\Local\\Temp\\ipykernel_11120\\229720988.py:20: SettingWithCopyWarning: \n",
      "A value is trying to be set on a copy of a slice from a DataFrame\n",
      "\n",
      "See the caveats in the documentation: https://pandas.pydata.org/pandas-docs/stable/user_guide/indexing.html#returning-a-view-versus-a-copy\n",
      "  v30.dropna(axis=1, how=\"all\",inplace= True)\n"
     ]
    }
   ],
   "source": [
    "#separando por categoria\n",
    "v10 = base.loc[base['Colun0'] == 10]\n",
    "v11 = base.loc[base['Colun0'] == 11]\n",
    "v14 = base.loc[base['Colun0'] == 14]\n",
    "v15 = base.loc[base['Colun0'] == 15]\n",
    "v16 = base.loc[base['Colun0'] == 16]\n",
    "v17 = base.loc[base['Colun0'] == 17]\n",
    "v18 = base.loc[base['Colun0'] == 18]\n",
    "v24 = base.loc[base['Colun0'] == 24]\n",
    "v30 = base.loc[base['Colun0'] == 30]\n",
    "\n",
    "v10.dropna(axis=1, how=\"all\",inplace= True)\n",
    "v11.dropna(axis=1, how=\"all\",inplace= True)\n",
    "v14.dropna(axis=1, how=\"all\",inplace= True)\n",
    "v15.dropna(axis=1, how=\"all\",inplace= True)\n",
    "v16.dropna(axis=1, how=\"all\",inplace= True)\n",
    "v17.dropna(axis=1, how=\"all\",inplace= True)\n",
    "v18.dropna(axis=1, how=\"all\",inplace= True)\n",
    "v24.dropna(axis=1, how=\"all\",inplace= True)\n",
    "v30.dropna(axis=1, how=\"all\",inplace= True)\n"
   ]
  },
  {
   "cell_type": "code",
   "execution_count": 5,
   "metadata": {},
   "outputs": [
    {
     "name": "stderr",
     "output_type": "stream",
     "text": [
      "C:\\Users\\seiff\\AppData\\Local\\Temp\\ipykernel_11120\\1762843211.py:2: SettingWithCopyWarning: \n",
      "A value is trying to be set on a copy of a slice from a DataFrame\n",
      "\n",
      "See the caveats in the documentation: https://pandas.pydata.org/pandas-docs/stable/user_guide/indexing.html#returning-a-view-versus-a-copy\n",
      "  v10.rename(columns={'Colun0': 'tipoRegistro', 'Colun1': 'contaContabil', 'Colun2': 'codFundo',\n",
      "C:\\Users\\seiff\\AppData\\Local\\Temp\\ipykernel_11120\\1762843211.py:7: SettingWithCopyWarning: \n",
      "A value is trying to be set on a copy of a slice from a DataFrame\n",
      "\n",
      "See the caveats in the documentation: https://pandas.pydata.org/pandas-docs/stable/user_guide/indexing.html#returning-a-view-versus-a-copy\n",
      "  v11.rename(columns={'Colun0': 'tipoRegistro', 'Colun1': 'contaContabil', 'Colun2': 'codFundo','Colun3': 'codOrgao', 'Colun4': 'codUnidadeSub',\n",
      "C:\\Users\\seiff\\AppData\\Local\\Temp\\ipykernel_11120\\1762843211.py:13: SettingWithCopyWarning: \n",
      "A value is trying to be set on a copy of a slice from a DataFrame\n",
      "\n",
      "See the caveats in the documentation: https://pandas.pydata.org/pandas-docs/stable/user_guide/indexing.html#returning-a-view-versus-a-copy\n",
      "  v14.rename(columns={'Colun0': 'tipoRegistro', 'Colun1': 'contaContabil', 'Colun2': 'codFundo','Colun3': 'codOrgao', 'Colun4': 'codUnidadeSub',\n",
      "C:\\Users\\seiff\\AppData\\Local\\Temp\\ipykernel_11120\\1762843211.py:20: SettingWithCopyWarning: \n",
      "A value is trying to be set on a copy of a slice from a DataFrame\n",
      "\n",
      "See the caveats in the documentation: https://pandas.pydata.org/pandas-docs/stable/user_guide/indexing.html#returning-a-view-versus-a-copy\n",
      "  v15.rename(columns={'Colun0': 'tipoRegistro', 'Colun1': 'contaContabil', 'Colun2': 'codFundo','Colun3': 'atributoSF', 'Colun4': 'saldoInicialSF',\n",
      "C:\\Users\\seiff\\AppData\\Local\\Temp\\ipykernel_11120\\1762843211.py:24: SettingWithCopyWarning: \n",
      "A value is trying to be set on a copy of a slice from a DataFrame\n",
      "\n",
      "See the caveats in the documentation: https://pandas.pydata.org/pandas-docs/stable/user_guide/indexing.html#returning-a-view-versus-a-copy\n",
      "  v16.rename(columns={'Colun0': 'tipoRegistro', 'Colun1': 'contaContabil', 'Colun2': 'codFundo','Colun3': 'atributoSF', 'Colun4': 'codFontRecursos',\n",
      "C:\\Users\\seiff\\AppData\\Local\\Temp\\ipykernel_11120\\1762843211.py:29: SettingWithCopyWarning: \n",
      "A value is trying to be set on a copy of a slice from a DataFrame\n",
      "\n",
      "See the caveats in the documentation: https://pandas.pydata.org/pandas-docs/stable/user_guide/indexing.html#returning-a-view-versus-a-copy\n",
      "  v17.rename(columns={'Colun0': 'tipoRegistro', 'Colun1': 'contaContabil', 'Colun2': 'codFundo','Colun3': 'atributoSF', 'Colun4': 'codCTB',\n",
      "C:\\Users\\seiff\\AppData\\Local\\Temp\\ipykernel_11120\\1762843211.py:34: SettingWithCopyWarning: \n",
      "A value is trying to be set on a copy of a slice from a DataFrame\n",
      "\n",
      "See the caveats in the documentation: https://pandas.pydata.org/pandas-docs/stable/user_guide/indexing.html#returning-a-view-versus-a-copy\n",
      "  v18.rename(columns={'Colun0': 'tipoRegistro', 'Colun1': 'contaContabil', 'Colun2': 'codFundo',\n",
      "C:\\Users\\seiff\\AppData\\Local\\Temp\\ipykernel_11120\\1762843211.py:39: SettingWithCopyWarning: \n",
      "A value is trying to be set on a copy of a slice from a DataFrame\n",
      "\n",
      "See the caveats in the documentation: https://pandas.pydata.org/pandas-docs/stable/user_guide/indexing.html#returning-a-view-versus-a-copy\n",
      "  v24.rename(columns={'Colun0': 'tipoRegistro', 'Colun1': 'contaContabil', 'Colun2': 'codFundo',\n",
      "C:\\Users\\seiff\\AppData\\Local\\Temp\\ipykernel_11120\\1762843211.py:44: SettingWithCopyWarning: \n",
      "A value is trying to be set on a copy of a slice from a DataFrame\n",
      "\n",
      "See the caveats in the documentation: https://pandas.pydata.org/pandas-docs/stable/user_guide/indexing.html#returning-a-view-versus-a-copy\n",
      "  v30.rename(columns={'Colun0': 'tipoRegistro', 'Colun1': 'contaContabil', 'Colun2': 'codFundo','Colun3': 'codOrgao', 'Colun4': 'codUnidadeSub',\n"
     ]
    }
   ],
   "source": [
    "#Renomeando Colunas\n",
    "v10.rename(columns={'Colun0': 'tipoRegistro', 'Colun1': 'contaContabil', 'Colun2': 'codFundo',\n",
    "                    'Colun3': 'saldoInicial', 'Colun4': 'naturezaSaldoInicial', 'Colun5': 'totalDebitos',\n",
    "                    'Colun6': 'totalCreditos', 'Colun7': 'saldoFinal', 'Colun8': 'naturezaSaldoFinal'\n",
    "                    },inplace= True)\n",
    "\n",
    "v11.rename(columns={'Colun0': 'tipoRegistro', 'Colun1': 'contaContabil', 'Colun2': 'codFundo','Colun3': 'codOrgao', 'Colun4': 'codUnidadeSub', \n",
    "                    'Colun5': 'codFuncao','Colun6': 'codSubFuncao', 'Colun7': 'codPrograma', 'Colun8': 'idAcao', 'Colun9': 'idSubAcao',\n",
    "                    'Colun10': 'naturezaDespesa', 'Colun11': 'codFontRecursos', 'Colun12': 'saldoInicialCD','Colun13': 'naturezaSaldoInicialCD',\n",
    "                    'Colun14': 'totalDebitosCD','Colun15': 'totalCreditosCD','Colun16': 'saldoFinalCD', 'Colun17': 'naturezaSaldoFinalCD',\n",
    "                   },inplace= True)\n",
    "\n",
    "v14.rename(columns={'Colun0': 'tipoRegistro', 'Colun1': 'contaContabil', 'Colun2': 'codFundo','Colun3': 'codOrgao', 'Colun4': 'codUnidadeSub', \n",
    "                    'Colun5': 'codUnidadeSubOrig','Colun6': 'codFuncao', 'Colun7': 'codSubFuncao', 'Colun8': 'codPrograma', 'Colun9': 'idAcao',\n",
    "                    'Colun10': 'idSubAcao', 'Colun11': 'naturezaDespesa', 'Colun12': 'subElemento','Colun13': 'codFontRecursos',\n",
    "                    'Colun14': 'codCO','Colun15': 'nroEmpenho','Colun16': 'anoInscricao', 'Colun17': 'saldoInicialRSP',\n",
    "                    'Colun18': 'naturezaSaldoInicialRSP','Colun19': 'totalDebitosRSP','Colun20': 'totalCreditosRSP','Colun21': 'saldoFinalRSP', 'Colun22': 'naturezaSaldoFinalRSP'\n",
    "                   },inplace= True)\n",
    "\n",
    "v15.rename(columns={'Colun0': 'tipoRegistro', 'Colun1': 'contaContabil', 'Colun2': 'codFundo','Colun3': 'atributoSF', 'Colun4': 'saldoInicialSF', \n",
    "                    'Colun5': 'naturezaSaldoInicialSF','Colun6': 'totalDebitosSF', 'Colun7': 'totalCreditosSF', 'Colun8': 'saldoFinalSF', 'Colun9': 'naturezaSaldoFinalSF',\n",
    "                    },inplace= True)\n",
    "\n",
    "v16.rename(columns={'Colun0': 'tipoRegistro', 'Colun1': 'contaContabil', 'Colun2': 'codFundo','Colun3': 'atributoSF', 'Colun4': 'codFontRecursos', \n",
    "                    'Colun5': 'codCO','Colun6': 'saldoInicialFontSF', 'Colun7': 'naturezaSaldoInicialFontSF', 'Colun8': 'totalDebitosFontSF',\n",
    "                    'Colun9': 'totalCreditosFontSF','Colun10': 'saldoFinalFontSF','Colun11': 'naturezaSaldoFinalFontSF'\n",
    "                    },inplace= True)\n",
    "\n",
    "v17.rename(columns={'Colun0': 'tipoRegistro', 'Colun1': 'contaContabil', 'Colun2': 'codFundo','Colun3': 'atributoSF', 'Colun4': 'codCTB', \n",
    "                    'Colun5': 'codFontRecursos','Colun6': 'codCO', 'Colun7': 'saldoInicialCTB', 'Colun8': 'naturezaSaldoInicialCTB',\n",
    "                    'Colun9': 'totalDebitosCTB','Colun10': 'totalCreditosCTB','Colun11': 'saldoFinalCTB','Colun12': 'naturezaSaldoFinalCTB'\n",
    "                    },inplace= True)\n",
    "\n",
    "v18.rename(columns={'Colun0': 'tipoRegistro', 'Colun1': 'contaContabil', 'Colun2': 'codFundo',\n",
    "                    'Colun3': 'codFontRecursos', 'Colun4': 'saldoInicialFR','Colun5': 'naturezaSaldoInicialFR','Colun6': 'totalDebitosFR', \n",
    "                    'Colun7': 'totalCreditosFR', 'Colun8': 'saldoFinalFR','Colun9': 'naturezaSaldoFinalFR'\n",
    "                    },inplace= True)\n",
    "\n",
    "v24.rename(columns={'Colun0': 'tipoRegistro', 'Colun1': 'contaContabil', 'Colun2': 'codFundo',\n",
    "                    'Colun3': 'codOrgao', 'Colun4': 'codUnidadeSub','Colun5': 'saldoInicialOrgao','Colun6': 'naturezaSaldoInicialOrgao', \n",
    "                    'Colun7': 'totalDebitosOrgao', 'Colun8': 'totalCreditosOrgao','Colun9': 'saldoFinalOrgao','Colun10': 'naturezaSaldoFinalOrgao'\n",
    "                    },inplace= True)\n",
    "\n",
    "v30.rename(columns={'Colun0': 'tipoRegistro', 'Colun1': 'contaContabil', 'Colun2': 'codFundo','Colun3': 'codOrgao', 'Colun4': 'codUnidadeSub', \n",
    "                    'Colun5': 'codFuncao','Colun6': 'codSubFuncao', 'Colun7': 'codPrograma', 'Colun8': 'idAcao', 'Colun9': 'idSubAcao',\n",
    "                    'Colun10': 'naturezaDespesa', 'Colun11': 'subElemento', 'Colun12': 'codFontRecursos','Colun13': 'codCO',\n",
    "                    'Colun14': 'saldoInicialCDE','Colun15': 'naturezaSaldoInicialCDE','Colun16': 'totalDebitosCDE', \n",
    "                    'Colun17': 'totalCreditosCDE','Colun18': 'saldoFinalCDE','Colun19': 'naturezaSaldoFinalCDE'\n",
    "                    },inplace= True)"
   ]
  },
  {
   "cell_type": "code",
   "execution_count": 6,
   "metadata": {},
   "outputs": [
    {
     "name": "stderr",
     "output_type": "stream",
     "text": [
      "<string>:3: SyntaxWarning: invalid escape sequence '\\{'\n",
      "<>:3: SyntaxWarning: invalid escape sequence '\\{'\n",
      "<string>:3: SyntaxWarning: invalid escape sequence '\\{'\n",
      "<>:3: SyntaxWarning: invalid escape sequence '\\{'\n",
      "C:\\Users\\seiff\\AppData\\Local\\Temp\\ipykernel_11120\\91890766.py:3: SyntaxWarning: invalid escape sequence '\\{'\n",
      "  unir.to_excel(f\"{s_unir}\\{nameSalvar}_unificado.xlsx\", index=False)\n"
     ]
    }
   ],
   "source": [
    "unir = pd.concat([v10,v11,v14,v15,v16,v17,v18,v24,v30])\n",
    "s_unir = r'G:\\Meu Drive\\Bases Dash Câmara BI\\Bases Unidas'\n",
    "unir.to_excel(f\"{s_unir}\\{nameSalvar}_unificado.xlsx\", index=False)"
   ]
  },
  {
   "cell_type": "code",
   "execution_count": 7,
   "metadata": {},
   "outputs": [
    {
     "name": "stderr",
     "output_type": "stream",
     "text": [
      "C:\\Users\\seiff\\AppData\\Local\\Temp\\ipykernel_11120\\2816930682.py:19: FutureWarning: The behavior of DataFrame concatenation with empty or all-NA entries is deprecated. In a future version, this will no longer exclude empty or all-NA columns when determining the result dtypes. To retain the old behavior, exclude the relevant entries before the concat operation.\n",
      "  base = pd.concat([base, base_arquivo], ignore_index=True)\n"
     ]
    }
   ],
   "source": [
    "# Caminho para os arquivos CSV do ANL\n",
    "caminho_diretorio = r'G:\\Meu Drive\\Bases Dash Câmara BI\\Base Original EMP'\n",
    "retornoDaFunc = unificandoDf(caminho_diretorio)\n",
    "base = retornoDaFunc[0]\n",
    "nameSalvar = retornoDaFunc[1]"
   ]
  },
  {
   "cell_type": "code",
   "execution_count": 8,
   "metadata": {},
   "outputs": [
    {
     "name": "stderr",
     "output_type": "stream",
     "text": [
      "C:\\Users\\seiff\\AppData\\Local\\Temp\\ipykernel_11120\\733587001.py:7: SettingWithCopyWarning: \n",
      "A value is trying to be set on a copy of a slice from a DataFrame\n",
      "\n",
      "See the caveats in the documentation: https://pandas.pydata.org/pandas-docs/stable/user_guide/indexing.html#returning-a-view-versus-a-copy\n",
      "  EMP11.dropna(axis=1, how=\"all\",inplace= True)\n",
      "C:\\Users\\seiff\\AppData\\Local\\Temp\\ipykernel_11120\\733587001.py:8: SettingWithCopyWarning: \n",
      "A value is trying to be set on a copy of a slice from a DataFrame\n",
      "\n",
      "See the caveats in the documentation: https://pandas.pydata.org/pandas-docs/stable/user_guide/indexing.html#returning-a-view-versus-a-copy\n",
      "  EMP12.dropna(axis=1, how=\"all\",inplace= True)\n",
      "C:\\Users\\seiff\\AppData\\Local\\Temp\\ipykernel_11120\\733587001.py:9: SettingWithCopyWarning: \n",
      "A value is trying to be set on a copy of a slice from a DataFrame\n",
      "\n",
      "See the caveats in the documentation: https://pandas.pydata.org/pandas-docs/stable/user_guide/indexing.html#returning-a-view-versus-a-copy\n",
      "  EMP20.dropna(axis=1, how=\"all\",inplace= True)\n"
     ]
    }
   ],
   "source": [
    "#separando por categoria\n",
    "EMP10 = base.loc[base['Colun0'] == 10]\n",
    "EMP11 = base.loc[base['Colun0'] == 11]\n",
    "EMP12 = base.loc[base['Colun0'] == 12]\n",
    "EMP20 = base.loc[base['Colun0'] == 20]\n",
    "\n",
    "EMP11.dropna(axis=1, how=\"all\",inplace= True)\n",
    "EMP12.dropna(axis=1, how=\"all\",inplace= True)\n",
    "EMP20.dropna(axis=1, how=\"all\",inplace= True)"
   ]
  },
  {
   "cell_type": "code",
   "execution_count": 9,
   "metadata": {},
   "outputs": [
    {
     "name": "stderr",
     "output_type": "stream",
     "text": [
      "C:\\Users\\seiff\\AppData\\Local\\Temp\\ipykernel_11120\\1020236792.py:1: SettingWithCopyWarning: \n",
      "A value is trying to be set on a copy of a slice from a DataFrame\n",
      "\n",
      "See the caveats in the documentation: https://pandas.pydata.org/pandas-docs/stable/user_guide/indexing.html#returning-a-view-versus-a-copy\n",
      "  EMP10.rename(columns={'Colun0': 'tipoRegistro', 'Colun1': 'codOrgao', 'Colun2': 'codUnidadeSub','Colun3': 'codFuncao', 'Colun4': 'codSubFuncao',\n",
      "C:\\Users\\seiff\\AppData\\Local\\Temp\\ipykernel_11120\\1020236792.py:11: SettingWithCopyWarning: \n",
      "A value is trying to be set on a copy of a slice from a DataFrame\n",
      "\n",
      "See the caveats in the documentation: https://pandas.pydata.org/pandas-docs/stable/user_guide/indexing.html#returning-a-view-versus-a-copy\n",
      "  EMP11.rename(columns={'Colun0': 'tipoRegistro', 'Colun1': 'codUnidadeSub', 'Colun2': 'nroEmpenho','Colun3': 'codFontRecursos', 'Colun4': 'codCO', 'Colun5': 'valorFonte'},inplace= True)\n",
      "C:\\Users\\seiff\\AppData\\Local\\Temp\\ipykernel_11120\\1020236792.py:13: SettingWithCopyWarning: \n",
      "A value is trying to be set on a copy of a slice from a DataFrame\n",
      "\n",
      "See the caveats in the documentation: https://pandas.pydata.org/pandas-docs/stable/user_guide/indexing.html#returning-a-view-versus-a-copy\n",
      "  EMP12.rename(columns={'Colun0': 'tipoRegistro', 'Colun1': 'codUnidadeSub', 'Colun2': 'nroEmpenho','Colun3': 'tipoDocumento', 'Colun4': 'nroDocumento'},inplace= True)\n",
      "C:\\Users\\seiff\\AppData\\Local\\Temp\\ipykernel_11120\\1020236792.py:15: SettingWithCopyWarning: \n",
      "A value is trying to be set on a copy of a slice from a DataFrame\n",
      "\n",
      "See the caveats in the documentation: https://pandas.pydata.org/pandas-docs/stable/user_guide/indexing.html#returning-a-view-versus-a-copy\n",
      "  EMP20.rename(columns={'Colun0': 'tipoRegistro', 'Colun1': 'codOrgao', 'Colun2': 'codUnidadeSub','Colun3': 'nroEmpenho', 'Colun4': 'dtEmpenho',\n"
     ]
    }
   ],
   "source": [
    "EMP10.rename(columns={'Colun0': 'tipoRegistro', 'Colun1': 'codOrgao', 'Colun2': 'codUnidadeSub','Colun3': 'codFuncao', 'Colun4': 'codSubFuncao', \n",
    "                    'Colun5': 'codPrograma','Colun6': 'idAcao', 'Colun7': 'idSubAcao', 'Colun8': 'naturezaDespesa', 'Colun9': 'subElemento',\n",
    "                    'Colun10': 'nroEmpenho', 'Colun11': 'dtEmpenho', 'Colun12': 'modalidadeEmpenho','Colun13': 'tpEmpenho',\n",
    "                    'Colun14': 'vlBruto','Colun15': 'especificacaoEmpenho','Colun16': 'despDecContrato', 'Colun17': 'codOrgaoRespContrato',\n",
    "                    'Colun18': 'codUnidadeSubRespContrato','Colun19': 'nroContrato','Colun20': 'dataAssinaturaContrato','Colun21': 'nroSequencialTermoAditivo', \n",
    "                    'Colun22': 'despDecConvenio','Colun23': 'nroConvenio','Colun24': 'dataAssinaturaConvenio', 'Colun25': 'despDecConvenioConge',\n",
    "                    'Colun26': 'nroConvenioConge','Colun27': 'dataAssinaturaConge','Colun28': 'despDecLicitacao', 'Colun29': 'codOrgaoRespLicit',\n",
    "                    'Colun30': 'codUnidadeSubRespLicit','Colun31': 'nroProcessoLicitatorio','Colun32': 'exercicioProcessoLicitatorio', 'Colun33': 'tipoProcesso','Colun34': 'cpfOrdenador'\n",
    "                   },inplace= True)\n",
    "\n",
    "EMP11.rename(columns={'Colun0': 'tipoRegistro', 'Colun1': 'codUnidadeSub', 'Colun2': 'nroEmpenho','Colun3': 'codFontRecursos', 'Colun4': 'codCO', 'Colun5': 'valorFonte'},inplace= True)\n",
    "\n",
    "EMP12.rename(columns={'Colun0': 'tipoRegistro', 'Colun1': 'codUnidadeSub', 'Colun2': 'nroEmpenho','Colun3': 'tipoDocumento', 'Colun4': 'nroDocumento'},inplace= True)\n",
    "\n",
    "EMP20.rename(columns={'Colun0': 'tipoRegistro', 'Colun1': 'codOrgao', 'Colun2': 'codUnidadeSub','Colun3': 'nroEmpenho', 'Colun4': 'dtEmpenho', \n",
    "                      'Colun5': 'nroReforco','Colun6': 'dtReforco', 'Colun7': 'codFontRecursos', 'Colun8': 'codCO', 'Colun9': 'vlReforco'\n",
    "                   },inplace= True)"
   ]
  },
  {
   "cell_type": "code",
   "execution_count": 10,
   "metadata": {},
   "outputs": [
    {
     "name": "stderr",
     "output_type": "stream",
     "text": [
      "<string>:3: SyntaxWarning: invalid escape sequence '\\{'\n",
      "<>:3: SyntaxWarning: invalid escape sequence '\\{'\n",
      "<string>:3: SyntaxWarning: invalid escape sequence '\\{'\n",
      "<>:3: SyntaxWarning: invalid escape sequence '\\{'\n",
      "C:\\Users\\seiff\\AppData\\Local\\Temp\\ipykernel_11120\\285604628.py:3: SyntaxWarning: invalid escape sequence '\\{'\n",
      "  unir.to_excel(f\"{s_unir}\\{nameSalvar}_unificado.xlsx\", index=False)\n"
     ]
    }
   ],
   "source": [
    "unir = pd.concat([EMP10,EMP11,EMP12,EMP20])\n",
    "s_unir = r'G:\\Meu Drive\\Bases Dash Câmara BI\\Bases Unidas'\n",
    "unir.to_excel(f\"{s_unir}\\{nameSalvar}_unificado.xlsx\", index=False)"
   ]
  },
  {
   "cell_type": "code",
   "execution_count": 11,
   "metadata": {},
   "outputs": [
    {
     "name": "stderr",
     "output_type": "stream",
     "text": [
      "C:\\Users\\seiff\\AppData\\Local\\Temp\\ipykernel_11120\\2816930682.py:19: FutureWarning: The behavior of DataFrame concatenation with empty or all-NA entries is deprecated. In a future version, this will no longer exclude empty or all-NA columns when determining the result dtypes. To retain the old behavior, exclude the relevant entries before the concat operation.\n",
      "  base = pd.concat([base, base_arquivo], ignore_index=True)\n"
     ]
    }
   ],
   "source": [
    "# Caminho para os arquivos CSV do ALN\n",
    "caminho_diretorio = r'G:\\Meu Drive\\Bases Dash Câmara BI\\Base Original ANL'\n",
    "retornoDaFunc = unificandoDf(caminho_diretorio)\n",
    "base = retornoDaFunc[0]\n",
    "nameSalvar = retornoDaFunc[1]"
   ]
  },
  {
   "cell_type": "code",
   "execution_count": 12,
   "metadata": {},
   "outputs": [
    {
     "name": "stderr",
     "output_type": "stream",
     "text": [
      "C:\\Users\\seiff\\AppData\\Local\\Temp\\ipykernel_11120\\197469755.py:6: SettingWithCopyWarning: \n",
      "A value is trying to be set on a copy of a slice from a DataFrame\n",
      "\n",
      "See the caveats in the documentation: https://pandas.pydata.org/pandas-docs/stable/user_guide/indexing.html#returning-a-view-versus-a-copy\n",
      "  ANL10.dropna(axis=1, how=\"all\",inplace= True)\n",
      "C:\\Users\\seiff\\AppData\\Local\\Temp\\ipykernel_11120\\197469755.py:7: SettingWithCopyWarning: \n",
      "A value is trying to be set on a copy of a slice from a DataFrame\n",
      "\n",
      "See the caveats in the documentation: https://pandas.pydata.org/pandas-docs/stable/user_guide/indexing.html#returning-a-view-versus-a-copy\n",
      "  ANL11.dropna(axis=1, how=\"all\",inplace= True)\n",
      "C:\\Users\\seiff\\AppData\\Local\\Temp\\ipykernel_11120\\197469755.py:8: SettingWithCopyWarning: \n",
      "A value is trying to be set on a copy of a slice from a DataFrame\n",
      "\n",
      "See the caveats in the documentation: https://pandas.pydata.org/pandas-docs/stable/user_guide/indexing.html#returning-a-view-versus-a-copy\n",
      "  ANL99.dropna(axis=1, how=\"all\",inplace= True)\n"
     ]
    }
   ],
   "source": [
    "#separando por categoria\n",
    "ANL10 = base.loc[base['Colun0'] == 10]\n",
    "ANL11 = base.loc[base['Colun0'] == 11]\n",
    "ANL99 = base.loc[base['Colun0'] == 99]\n",
    "\n",
    "ANL10.dropna(axis=1, how=\"all\",inplace= True)\n",
    "ANL11.dropna(axis=1, how=\"all\",inplace= True)\n",
    "ANL99.dropna(axis=1, how=\"all\",inplace= True)"
   ]
  },
  {
   "cell_type": "code",
   "execution_count": 13,
   "metadata": {},
   "outputs": [
    {
     "name": "stderr",
     "output_type": "stream",
     "text": [
      "C:\\Users\\seiff\\AppData\\Local\\Temp\\ipykernel_11120\\2066606835.py:3: SettingWithCopyWarning: \n",
      "A value is trying to be set on a copy of a slice from a DataFrame\n",
      "\n",
      "See the caveats in the documentation: https://pandas.pydata.org/pandas-docs/stable/user_guide/indexing.html#returning-a-view-versus-a-copy\n",
      "  ANL10.rename(columns={'Colun0': 'tipoRegistro', 'Colun1': 'codOrgao', 'Colun2': 'codUnidadeSub','Colun3': 'nroEmpenho', 'Colun4': 'dtEmpenho',\n",
      "C:\\Users\\seiff\\AppData\\Local\\Temp\\ipykernel_11120\\2066606835.py:7: SettingWithCopyWarning: \n",
      "A value is trying to be set on a copy of a slice from a DataFrame\n",
      "\n",
      "See the caveats in the documentation: https://pandas.pydata.org/pandas-docs/stable/user_guide/indexing.html#returning-a-view-versus-a-copy\n",
      "  ANL11.rename(columns={'Colun0': 'tipoRegistro', 'Colun1': 'codUnidadeSub', 'Colun2': 'nroEmpenho','Colun3': 'nroAnulacao', 'Colun4': 'codFontRecursos',\n",
      "C:\\Users\\seiff\\AppData\\Local\\Temp\\ipykernel_11120\\2066606835.py:10: SettingWithCopyWarning: \n",
      "A value is trying to be set on a copy of a slice from a DataFrame\n",
      "\n",
      "See the caveats in the documentation: https://pandas.pydata.org/pandas-docs/stable/user_guide/indexing.html#returning-a-view-versus-a-copy\n",
      "  ANL99.rename(columns={'Colun0': 'tipoRegistro'},inplace= True)\n"
     ]
    }
   ],
   "source": [
    "#Renomeando colunas\n",
    "\n",
    "ANL10.rename(columns={'Colun0': 'tipoRegistro', 'Colun1': 'codOrgao', 'Colun2': 'codUnidadeSub','Colun3': 'nroEmpenho', 'Colun4': 'dtEmpenho', \n",
    "                    'Colun5': 'dtAnulacao','Colun6': 'nroAnulacao', 'Colun7': 'tipoAnulacao', 'Colun8': 'especAnulacaoEmpenho', 'Colun9': 'vlAnulacao'\n",
    "                     },inplace= True)\n",
    "\n",
    "ANL11.rename(columns={'Colun0': 'tipoRegistro', 'Colun1': 'codUnidadeSub', 'Colun2': 'nroEmpenho','Colun3': 'nroAnulacao', 'Colun4': 'codFontRecursos',\n",
    "                      'Colun5': 'codCO','Colun6': 'vlAnulacaoFonte'\n",
    "                     },inplace= True)\n",
    "ANL99.rename(columns={'Colun0': 'tipoRegistro'},inplace= True)"
   ]
  },
  {
   "cell_type": "code",
   "execution_count": 14,
   "metadata": {},
   "outputs": [
    {
     "name": "stderr",
     "output_type": "stream",
     "text": [
      "<string>:3: SyntaxWarning: invalid escape sequence '\\{'\n",
      "<>:3: SyntaxWarning: invalid escape sequence '\\{'\n",
      "<string>:3: SyntaxWarning: invalid escape sequence '\\{'\n",
      "<>:3: SyntaxWarning: invalid escape sequence '\\{'\n",
      "C:\\Users\\seiff\\AppData\\Local\\Temp\\ipykernel_11120\\3112484243.py:3: SyntaxWarning: invalid escape sequence '\\{'\n",
      "  unir.to_excel(f\"{s_unir}\\{nameSalvar}_unificado.xlsx\", index=False)\n"
     ]
    }
   ],
   "source": [
    "unir = pd.concat([ANL10,ANL11,ANL99])\n",
    "s_unir = r'G:\\Meu Drive\\Bases Dash Câmara BI\\Bases Unidas'\n",
    "unir.to_excel(f\"{s_unir}\\{nameSalvar}_unificado.xlsx\", index=False)"
   ]
  },
  {
   "cell_type": "code",
   "execution_count": 15,
   "metadata": {},
   "outputs": [
    {
     "name": "stderr",
     "output_type": "stream",
     "text": [
      "C:\\Users\\seiff\\AppData\\Local\\Temp\\ipykernel_11120\\2816930682.py:19: FutureWarning: The behavior of DataFrame concatenation with empty or all-NA entries is deprecated. In a future version, this will no longer exclude empty or all-NA columns when determining the result dtypes. To retain the old behavior, exclude the relevant entries before the concat operation.\n",
      "  base = pd.concat([base, base_arquivo], ignore_index=True)\n"
     ]
    }
   ],
   "source": [
    "# Caminho para os arquivos CSV do CTB\n",
    "caminho_diretorio = r'G:\\Meu Drive\\Bases Dash Câmara BI\\Base Original CTB'\n",
    "retornoDaFunc = unificandoDf(caminho_diretorio)\n",
    "base = retornoDaFunc[0]\n",
    "nameSalvar = retornoDaFunc[1]"
   ]
  },
  {
   "cell_type": "code",
   "execution_count": 16,
   "metadata": {},
   "outputs": [
    {
     "name": "stderr",
     "output_type": "stream",
     "text": [
      "C:\\Users\\seiff\\AppData\\Local\\Temp\\ipykernel_11120\\4163596182.py:9: SettingWithCopyWarning: \n",
      "A value is trying to be set on a copy of a slice from a DataFrame\n",
      "\n",
      "See the caveats in the documentation: https://pandas.pydata.org/pandas-docs/stable/user_guide/indexing.html#returning-a-view-versus-a-copy\n",
      "  CTB10.dropna(axis=1, how=\"all\",inplace= True)\n",
      "C:\\Users\\seiff\\AppData\\Local\\Temp\\ipykernel_11120\\4163596182.py:10: SettingWithCopyWarning: \n",
      "A value is trying to be set on a copy of a slice from a DataFrame\n",
      "\n",
      "See the caveats in the documentation: https://pandas.pydata.org/pandas-docs/stable/user_guide/indexing.html#returning-a-view-versus-a-copy\n",
      "  CTB20.dropna(axis=1, how=\"all\",inplace= True)\n",
      "C:\\Users\\seiff\\AppData\\Local\\Temp\\ipykernel_11120\\4163596182.py:11: SettingWithCopyWarning: \n",
      "A value is trying to be set on a copy of a slice from a DataFrame\n",
      "\n",
      "See the caveats in the documentation: https://pandas.pydata.org/pandas-docs/stable/user_guide/indexing.html#returning-a-view-versus-a-copy\n",
      "  CTB21.dropna(axis=1, how=\"all\",inplace= True)\n",
      "C:\\Users\\seiff\\AppData\\Local\\Temp\\ipykernel_11120\\4163596182.py:12: SettingWithCopyWarning: \n",
      "A value is trying to be set on a copy of a slice from a DataFrame\n",
      "\n",
      "See the caveats in the documentation: https://pandas.pydata.org/pandas-docs/stable/user_guide/indexing.html#returning-a-view-versus-a-copy\n",
      "  CTB22.dropna(axis=1, how=\"all\",inplace= True)\n",
      "C:\\Users\\seiff\\AppData\\Local\\Temp\\ipykernel_11120\\4163596182.py:13: SettingWithCopyWarning: \n",
      "A value is trying to be set on a copy of a slice from a DataFrame\n",
      "\n",
      "See the caveats in the documentation: https://pandas.pydata.org/pandas-docs/stable/user_guide/indexing.html#returning-a-view-versus-a-copy\n",
      "  CTB50.dropna(axis=1, how=\"all\",inplace= True)\n",
      "C:\\Users\\seiff\\AppData\\Local\\Temp\\ipykernel_11120\\4163596182.py:14: SettingWithCopyWarning: \n",
      "A value is trying to be set on a copy of a slice from a DataFrame\n",
      "\n",
      "See the caveats in the documentation: https://pandas.pydata.org/pandas-docs/stable/user_guide/indexing.html#returning-a-view-versus-a-copy\n",
      "  CTB99.dropna(axis=1, how=\"all\",inplace= True)\n"
     ]
    }
   ],
   "source": [
    "#separando por categoria\n",
    "CTB10 = base.loc[base['Colun0'] == 10]\n",
    "CTB20 = base.loc[base['Colun0'] == 20]\n",
    "CTB21 = base.loc[base['Colun0'] == 21]\n",
    "CTB22 = base.loc[base['Colun0'] == 22]\n",
    "CTB50 = base.loc[base['Colun0'] == 50]\n",
    "CTB99 = base.loc[base['Colun0'] == 99]\n",
    "\n",
    "CTB10.dropna(axis=1, how=\"all\",inplace= True)\n",
    "CTB20.dropna(axis=1, how=\"all\",inplace= True)\n",
    "CTB21.dropna(axis=1, how=\"all\",inplace= True)\n",
    "CTB22.dropna(axis=1, how=\"all\",inplace= True)\n",
    "CTB50.dropna(axis=1, how=\"all\",inplace= True)\n",
    "CTB99.dropna(axis=1, how=\"all\",inplace= True)\n",
    "\n"
   ]
  },
  {
   "cell_type": "code",
   "execution_count": 17,
   "metadata": {},
   "outputs": [
    {
     "name": "stderr",
     "output_type": "stream",
     "text": [
      "C:\\Users\\seiff\\AppData\\Local\\Temp\\ipykernel_11120\\3923756408.py:3: SettingWithCopyWarning: \n",
      "A value is trying to be set on a copy of a slice from a DataFrame\n",
      "\n",
      "See the caveats in the documentation: https://pandas.pydata.org/pandas-docs/stable/user_guide/indexing.html#returning-a-view-versus-a-copy\n",
      "  CTB10.rename(columns={'Colun0': 'tipoRegistro', 'Colun1': 'codCTB', 'Colun2': 'codOrgao','Colun3': 'banco', 'Colun4': 'agencia',\n",
      "C:\\Users\\seiff\\AppData\\Local\\Temp\\ipykernel_11120\\3923756408.py:9: SettingWithCopyWarning: \n",
      "A value is trying to be set on a copy of a slice from a DataFrame\n",
      "\n",
      "See the caveats in the documentation: https://pandas.pydata.org/pandas-docs/stable/user_guide/indexing.html#returning-a-view-versus-a-copy\n",
      "  CTB20.rename(columns={'Colun0': 'tipoRegistro', 'Colun1': 'codOrgao', 'Colun2': 'codCTB','Colun3': 'codFontRecursos', 'Colun4': 'saldoCEC',\n",
      "C:\\Users\\seiff\\AppData\\Local\\Temp\\ipykernel_11120\\3923756408.py:13: SettingWithCopyWarning: \n",
      "A value is trying to be set on a copy of a slice from a DataFrame\n",
      "\n",
      "See the caveats in the documentation: https://pandas.pydata.org/pandas-docs/stable/user_guide/indexing.html#returning-a-view-versus-a-copy\n",
      "  CTB21.rename(columns={'Colun0': 'tipoRegistro', 'Colun1': 'codCTB', 'Colun2': 'codFontRecursos','Colun3': 'codReduzidoMOV', 'Colun4': 'tipoMovimentacao',\n",
      "C:\\Users\\seiff\\AppData\\Local\\Temp\\ipykernel_11120\\3923756408.py:18: SettingWithCopyWarning: \n",
      "A value is trying to be set on a copy of a slice from a DataFrame\n",
      "\n",
      "See the caveats in the documentation: https://pandas.pydata.org/pandas-docs/stable/user_guide/indexing.html#returning-a-view-versus-a-copy\n",
      "  CTB22.rename(columns={'Colun0': 'tipoRegistro', 'Colun1': 'codReduzidoMOV', 'Colun2': 'eDeducaoDeReceita','Colun3': 'identificadorDeducao', 'Colun4': 'naturezaReceita',\n",
      "C:\\Users\\seiff\\AppData\\Local\\Temp\\ipykernel_11120\\3923756408.py:22: SettingWithCopyWarning: \n",
      "A value is trying to be set on a copy of a slice from a DataFrame\n",
      "\n",
      "See the caveats in the documentation: https://pandas.pydata.org/pandas-docs/stable/user_guide/indexing.html#returning-a-view-versus-a-copy\n",
      "  CTB50.rename(columns={'Colun0': 'tipoRegistro', 'Colun1': 'codOrgao', 'Colun2': 'codCTB','Colun3': 'situacaoConta', 'Colun4': 'dataSituacao'\n",
      "C:\\Users\\seiff\\AppData\\Local\\Temp\\ipykernel_11120\\3923756408.py:25: SettingWithCopyWarning: \n",
      "A value is trying to be set on a copy of a slice from a DataFrame\n",
      "\n",
      "See the caveats in the documentation: https://pandas.pydata.org/pandas-docs/stable/user_guide/indexing.html#returning-a-view-versus-a-copy\n",
      "  CTB99.rename(columns={'Colun0': 'tipoRegistro' },inplace= True)\n"
     ]
    }
   ],
   "source": [
    "#Renomeando colunas\n",
    "\n",
    "CTB10.rename(columns={'Colun0': 'tipoRegistro', 'Colun1': 'codCTB', 'Colun2': 'codOrgao','Colun3': 'banco', 'Colun4': 'agencia', \n",
    "                    'Colun5': 'digitoVerificadorAgencia','Colun6': 'contaBancaria', 'Colun7': 'digitoVerificadorContaBancaria', \n",
    "                    'Colun8': 'tipoConta', 'Colun9': 'nroSeqAplicacao','Colun10': 'descContaBancaria', 'Colun11': 'contaConvenio', \n",
    "                    'Colun12': 'nroConvenio', 'Colun13': 'dataAssinaturaConvenio'\n",
    "                     },inplace= True)\n",
    "\n",
    "CTB20.rename(columns={'Colun0': 'tipoRegistro', 'Colun1': 'codOrgao', 'Colun2': 'codCTB','Colun3': 'codFontRecursos', 'Colun4': 'saldoCEC', \n",
    "                      'Colun5': 'vlSaldoInicialFonte', 'Colun6': 'vlSaldoFinalFonte'\n",
    "                     },inplace= True)\n",
    "\n",
    "CTB21.rename(columns={'Colun0': 'tipoRegistro', 'Colun1': 'codCTB', 'Colun2': 'codFontRecursos','Colun3': 'codReduzidoMOV', 'Colun4': 'tipoMovimentacao', \n",
    "                    'Colun5': 'tipoEntrSaida','Colun6': 'dscOutrasMov', 'Colun7': 'saldoCEC','Colun8': 'valorEntrSaida', 'Colun9': 'codCTBTransf',\n",
    "                    'Colun10': 'codFonteCTBTransf', 'Colun11': 'saldoCECTransf','Colun12': 'codIdentificaFR'\n",
    "                     },inplace= True)\n",
    "\n",
    "CTB22.rename(columns={'Colun0': 'tipoRegistro', 'Colun1': 'codReduzidoMOV', 'Colun2': 'eDeducaoDeReceita','Colun3': 'identificadorDeducao', 'Colun4': 'naturezaReceita', \n",
    "                    'Colun5': 'codFontRecursos','Colun6': 'codCO', 'Colun7': 'saldoCEC','Colun8': 'vlrReceitaCont'\n",
    "                     },inplace= True)\n",
    "\n",
    "CTB50.rename(columns={'Colun0': 'tipoRegistro', 'Colun1': 'codOrgao', 'Colun2': 'codCTB','Colun3': 'situacaoConta', 'Colun4': 'dataSituacao'\n",
    "                     },inplace= True)\n",
    "\n",
    "CTB99.rename(columns={'Colun0': 'tipoRegistro' },inplace= True)\n"
   ]
  },
  {
   "cell_type": "code",
   "execution_count": 18,
   "metadata": {},
   "outputs": [
    {
     "name": "stderr",
     "output_type": "stream",
     "text": [
      "<string>:3: SyntaxWarning: invalid escape sequence '\\{'\n",
      "<>:3: SyntaxWarning: invalid escape sequence '\\{'\n",
      "<string>:3: SyntaxWarning: invalid escape sequence '\\{'\n",
      "<>:3: SyntaxWarning: invalid escape sequence '\\{'\n",
      "C:\\Users\\seiff\\AppData\\Local\\Temp\\ipykernel_11120\\1436072726.py:3: SyntaxWarning: invalid escape sequence '\\{'\n",
      "  unir.to_excel(f\"{s_unir}\\{nameSalvar}_unificado.xlsx\", index=False)\n"
     ]
    }
   ],
   "source": [
    "unir = pd.concat([CTB10,CTB20,CTB21,CTB22,CTB50,CTB99])\n",
    "s_unir = r'G:\\Meu Drive\\Bases Dash Câmara BI\\Bases Unidas'\n",
    "unir.to_excel(f\"{s_unir}\\{nameSalvar}_unificado.xlsx\", index=False)"
   ]
  },
  {
   "cell_type": "code",
   "execution_count": 19,
   "metadata": {},
   "outputs": [],
   "source": [
    "# Caminho para os arquivos CSV do CAIXA\n",
    "caminho_diretorio = r'G:\\Meu Drive\\Bases Dash Câmara BI\\Base Original CAIXA'\n",
    "retornoDaFunc = unificandoDf(caminho_diretorio)\n",
    "base = retornoDaFunc[0]\n",
    "nameSalvar = retornoDaFunc[1]"
   ]
  },
  {
   "cell_type": "code",
   "execution_count": 20,
   "metadata": {},
   "outputs": [
    {
     "name": "stderr",
     "output_type": "stream",
     "text": [
      "C:\\Users\\seiff\\AppData\\Local\\Temp\\ipykernel_11120\\1750209792.py:6: SettingWithCopyWarning: \n",
      "A value is trying to be set on a copy of a slice from a DataFrame\n",
      "\n",
      "See the caveats in the documentation: https://pandas.pydata.org/pandas-docs/stable/user_guide/indexing.html#returning-a-view-versus-a-copy\n",
      "  CX10.dropna(axis=1, how=\"all\",inplace= True)\n",
      "C:\\Users\\seiff\\AppData\\Local\\Temp\\ipykernel_11120\\1750209792.py:7: SettingWithCopyWarning: \n",
      "A value is trying to be set on a copy of a slice from a DataFrame\n",
      "\n",
      "See the caveats in the documentation: https://pandas.pydata.org/pandas-docs/stable/user_guide/indexing.html#returning-a-view-versus-a-copy\n",
      "  CX11.dropna(axis=1, how=\"all\",inplace= True)\n",
      "C:\\Users\\seiff\\AppData\\Local\\Temp\\ipykernel_11120\\1750209792.py:8: SettingWithCopyWarning: \n",
      "A value is trying to be set on a copy of a slice from a DataFrame\n",
      "\n",
      "See the caveats in the documentation: https://pandas.pydata.org/pandas-docs/stable/user_guide/indexing.html#returning-a-view-versus-a-copy\n",
      "  CX99.dropna(axis=1, how=\"all\",inplace= True)\n"
     ]
    }
   ],
   "source": [
    "#separando por categoria\n",
    "CX10 = base.loc[base['Colun0'] == 10]\n",
    "CX11 = base.loc[base['Colun0'] == 11]\n",
    "CX99 = base.loc[base['Colun0'] == 99]\n",
    "\n",
    "CX10.dropna(axis=1, how=\"all\",inplace= True)\n",
    "CX11.dropna(axis=1, how=\"all\",inplace= True)\n",
    "CX99.dropna(axis=1, how=\"all\",inplace= True)\n"
   ]
  },
  {
   "cell_type": "code",
   "execution_count": 21,
   "metadata": {},
   "outputs": [
    {
     "name": "stderr",
     "output_type": "stream",
     "text": [
      "C:\\Users\\seiff\\AppData\\Local\\Temp\\ipykernel_11120\\3538722906.py:1: SettingWithCopyWarning: \n",
      "A value is trying to be set on a copy of a slice from a DataFrame\n",
      "\n",
      "See the caveats in the documentation: https://pandas.pydata.org/pandas-docs/stable/user_guide/indexing.html#returning-a-view-versus-a-copy\n",
      "  CX10.rename(columns={'Colun0': 'tipoRegistro', 'Colun1': 'codOrgao',\n",
      "C:\\Users\\seiff\\AppData\\Local\\Temp\\ipykernel_11120\\3538722906.py:5: SettingWithCopyWarning: \n",
      "A value is trying to be set on a copy of a slice from a DataFrame\n",
      "\n",
      "See the caveats in the documentation: https://pandas.pydata.org/pandas-docs/stable/user_guide/indexing.html#returning-a-view-versus-a-copy\n",
      "  CX11.rename(columns={'Colun0': 'tipoRegistro', 'Colun1': 'codFonteCaixa',\n",
      "C:\\Users\\seiff\\AppData\\Local\\Temp\\ipykernel_11120\\3538722906.py:9: SettingWithCopyWarning: \n",
      "A value is trying to be set on a copy of a slice from a DataFrame\n",
      "\n",
      "See the caveats in the documentation: https://pandas.pydata.org/pandas-docs/stable/user_guide/indexing.html#returning-a-view-versus-a-copy\n",
      "  CX99.rename(columns={'Colun0': 'tipoRegistro'\n"
     ]
    }
   ],
   "source": [
    "CX10.rename(columns={'Colun0': 'tipoRegistro', 'Colun1': 'codOrgao', \n",
    "                     'Colun2': 'vlSaldoInicial','Colun3': 'vlSaldoFinal'\n",
    "                     },inplace= True)\n",
    "\n",
    "CX11.rename(columns={'Colun0': 'tipoRegistro', 'Colun1': 'codFonteCaixa', \n",
    "                     'Colun2': 'vlSaldoInicialFonte','Colun3': 'vlSaldoFinalFonte'\n",
    "                     },inplace= True)\n",
    "\n",
    "CX99.rename(columns={'Colun0': 'tipoRegistro'\n",
    "                     },inplace= True)"
   ]
  },
  {
   "cell_type": "code",
   "execution_count": 22,
   "metadata": {},
   "outputs": [
    {
     "name": "stderr",
     "output_type": "stream",
     "text": [
      "<string>:3: SyntaxWarning: invalid escape sequence '\\{'\n",
      "<>:3: SyntaxWarning: invalid escape sequence '\\{'\n",
      "<string>:3: SyntaxWarning: invalid escape sequence '\\{'\n",
      "<>:3: SyntaxWarning: invalid escape sequence '\\{'\n",
      "C:\\Users\\seiff\\AppData\\Local\\Temp\\ipykernel_11120\\2864057043.py:3: SyntaxWarning: invalid escape sequence '\\{'\n",
      "  unir.to_excel(f\"{s_unir}\\{nameSalvar}_unificado.xlsx\", index=False)\n"
     ]
    }
   ],
   "source": [
    "unir = pd.concat([CX10,CX11,CX99])\n",
    "s_unir = r'G:\\Meu Drive\\Bases Dash Câmara BI\\Bases Unidas'\n",
    "unir.to_excel(f\"{s_unir}\\{nameSalvar}_unificado.xlsx\", index=False)"
   ]
  },
  {
   "cell_type": "code",
   "execution_count": 23,
   "metadata": {},
   "outputs": [
    {
     "name": "stderr",
     "output_type": "stream",
     "text": [
      "C:\\Users\\seiff\\AppData\\Local\\Temp\\ipykernel_11120\\2816930682.py:19: FutureWarning: The behavior of DataFrame concatenation with empty or all-NA entries is deprecated. In a future version, this will no longer exclude empty or all-NA columns when determining the result dtypes. To retain the old behavior, exclude the relevant entries before the concat operation.\n",
      "  base = pd.concat([base, base_arquivo], ignore_index=True)\n"
     ]
    }
   ],
   "source": [
    "# Caminho para os arquivos CSV do LQD\n",
    "caminho_diretorio = r'G:\\Meu Drive\\Bases Dash Câmara BI\\Base Original LQD'\n",
    "retornoDaFunc = unificandoDf(caminho_diretorio)\n",
    "base = retornoDaFunc[0]\n",
    "nameSalvar = retornoDaFunc[1]"
   ]
  },
  {
   "cell_type": "code",
   "execution_count": 24,
   "metadata": {},
   "outputs": [
    {
     "name": "stderr",
     "output_type": "stream",
     "text": [
      "C:\\Users\\seiff\\AppData\\Local\\Temp\\ipykernel_11120\\3336939303.py:6: SettingWithCopyWarning: \n",
      "A value is trying to be set on a copy of a slice from a DataFrame\n",
      "\n",
      "See the caveats in the documentation: https://pandas.pydata.org/pandas-docs/stable/user_guide/indexing.html#returning-a-view-versus-a-copy\n",
      "  LQD10.dropna(axis=1, how=\"all\",inplace= True)\n",
      "C:\\Users\\seiff\\AppData\\Local\\Temp\\ipykernel_11120\\3336939303.py:7: SettingWithCopyWarning: \n",
      "A value is trying to be set on a copy of a slice from a DataFrame\n",
      "\n",
      "See the caveats in the documentation: https://pandas.pydata.org/pandas-docs/stable/user_guide/indexing.html#returning-a-view-versus-a-copy\n",
      "  LQD11.dropna(axis=1, how=\"all\",inplace= True)\n",
      "C:\\Users\\seiff\\AppData\\Local\\Temp\\ipykernel_11120\\3336939303.py:8: SettingWithCopyWarning: \n",
      "A value is trying to be set on a copy of a slice from a DataFrame\n",
      "\n",
      "See the caveats in the documentation: https://pandas.pydata.org/pandas-docs/stable/user_guide/indexing.html#returning-a-view-versus-a-copy\n",
      "  LQD99.dropna(axis=1, how=\"all\",inplace= True)\n"
     ]
    }
   ],
   "source": [
    "#separando por categoria\n",
    "LQD10 = base.loc[base['Colun0'] == 10]\n",
    "LQD11 = base.loc[base['Colun0'] == 11]\n",
    "LQD99 = base.loc[base['Colun0'] == 99]\n",
    "\n",
    "LQD10.dropna(axis=1, how=\"all\",inplace= True)\n",
    "LQD11.dropna(axis=1, how=\"all\",inplace= True)\n",
    "LQD99.dropna(axis=1, how=\"all\",inplace= True)"
   ]
  },
  {
   "cell_type": "code",
   "execution_count": 25,
   "metadata": {},
   "outputs": [
    {
     "name": "stderr",
     "output_type": "stream",
     "text": [
      "C:\\Users\\seiff\\AppData\\Local\\Temp\\ipykernel_11120\\529337356.py:1: SettingWithCopyWarning: \n",
      "A value is trying to be set on a copy of a slice from a DataFrame\n",
      "\n",
      "See the caveats in the documentation: https://pandas.pydata.org/pandas-docs/stable/user_guide/indexing.html#returning-a-view-versus-a-copy\n",
      "  LQD10.rename(columns={'Colun0': 'tipoRegistro', 'Colun1': 'codFonteCaixa','Colun2': 'vlSaldoInicialFonte','Colun3': 'codUnidadeSub',\n",
      "C:\\Users\\seiff\\AppData\\Local\\Temp\\ipykernel_11120\\529337356.py:6: SettingWithCopyWarning: \n",
      "A value is trying to be set on a copy of a slice from a DataFrame\n",
      "\n",
      "See the caveats in the documentation: https://pandas.pydata.org/pandas-docs/stable/user_guide/indexing.html#returning-a-view-versus-a-copy\n",
      "  LQD11.rename(columns={'Colun0': 'tipoRegistro', 'Colun1': 'codReduzido','Colun2': 'codFontRecursos','Colun3': 'codCO',\n",
      "C:\\Users\\seiff\\AppData\\Local\\Temp\\ipykernel_11120\\529337356.py:10: SettingWithCopyWarning: \n",
      "A value is trying to be set on a copy of a slice from a DataFrame\n",
      "\n",
      "See the caveats in the documentation: https://pandas.pydata.org/pandas-docs/stable/user_guide/indexing.html#returning-a-view-versus-a-copy\n",
      "  LQD99.rename(columns={'Colun0': 'tipoRegistro'\n"
     ]
    }
   ],
   "source": [
    "LQD10.rename(columns={'Colun0': 'tipoRegistro', 'Colun1': 'codFonteCaixa','Colun2': 'vlSaldoInicialFonte','Colun3': 'codUnidadeSub',\n",
    "                      'Colun4': 'tpLiquidacao', 'Colun5': 'nroEmpenho','Colun6': 'dtEmpenho','Colun7': 'dtLiquidacao',\n",
    "                      'Colun8': 'nroLiquidacao', 'Colun9': 'vlLiquidado','Colun10': 'cpfLiquidante'\n",
    "                     },inplace= True)\n",
    "\n",
    "LQD11.rename(columns={'Colun0': 'tipoRegistro', 'Colun1': 'codReduzido','Colun2': 'codFontRecursos','Colun3': 'codCO',\n",
    "                      'Colun4': 'valorFonte'\n",
    "                     },inplace= True)\n",
    "\n",
    "LQD99.rename(columns={'Colun0': 'tipoRegistro'\n",
    "                     },inplace= True)"
   ]
  },
  {
   "cell_type": "code",
   "execution_count": 26,
   "metadata": {},
   "outputs": [
    {
     "name": "stderr",
     "output_type": "stream",
     "text": [
      "<string>:3: SyntaxWarning: invalid escape sequence '\\{'\n",
      "<>:3: SyntaxWarning: invalid escape sequence '\\{'\n",
      "<string>:3: SyntaxWarning: invalid escape sequence '\\{'\n",
      "<>:3: SyntaxWarning: invalid escape sequence '\\{'\n",
      "C:\\Users\\seiff\\AppData\\Local\\Temp\\ipykernel_11120\\183107450.py:3: SyntaxWarning: invalid escape sequence '\\{'\n",
      "  unir.to_excel(f\"{s_unir}\\{nameSalvar}_unificado.xlsx\", index=False)\n"
     ]
    }
   ],
   "source": [
    "unir = pd.concat([LQD10,LQD11,LQD99])\n",
    "s_unir = r'G:\\Meu Drive\\Bases Dash Câmara BI\\Bases Unidas'\n",
    "unir.to_excel(f\"{s_unir}\\{nameSalvar}_unificado.xlsx\", index=False)"
   ]
  },
  {
   "cell_type": "code",
   "execution_count": 27,
   "metadata": {},
   "outputs": [
    {
     "name": "stderr",
     "output_type": "stream",
     "text": [
      "C:\\Users\\seiff\\AppData\\Local\\Temp\\ipykernel_11120\\2816930682.py:19: FutureWarning: The behavior of DataFrame concatenation with empty or all-NA entries is deprecated. In a future version, this will no longer exclude empty or all-NA columns when determining the result dtypes. To retain the old behavior, exclude the relevant entries before the concat operation.\n",
      "  base = pd.concat([base, base_arquivo], ignore_index=True)\n"
     ]
    }
   ],
   "source": [
    "# Caminho para os arquivos CSV do ALQ\n",
    "caminho_diretorio = r'G:\\Meu Drive\\Bases Dash Câmara BI\\Base Original ALQ'\n",
    "retornoDaFunc = unificandoDf(caminho_diretorio)\n",
    "base = retornoDaFunc[0]\n",
    "nameSalvar = retornoDaFunc[1]"
   ]
  },
  {
   "cell_type": "code",
   "execution_count": 28,
   "metadata": {},
   "outputs": [
    {
     "data": {
      "text/plain": [
       "array([10, 11, 99], dtype=object)"
      ]
     },
     "execution_count": 28,
     "metadata": {},
     "output_type": "execute_result"
    }
   ],
   "source": [
    "base.Colun0.unique()"
   ]
  },
  {
   "cell_type": "code",
   "execution_count": 29,
   "metadata": {},
   "outputs": [
    {
     "name": "stderr",
     "output_type": "stream",
     "text": [
      "C:\\Users\\seiff\\AppData\\Local\\Temp\\ipykernel_11120\\1632549978.py:6: SettingWithCopyWarning: \n",
      "A value is trying to be set on a copy of a slice from a DataFrame\n",
      "\n",
      "See the caveats in the documentation: https://pandas.pydata.org/pandas-docs/stable/user_guide/indexing.html#returning-a-view-versus-a-copy\n",
      "  ALQ10.dropna(axis=1, how=\"all\",inplace= True)\n",
      "C:\\Users\\seiff\\AppData\\Local\\Temp\\ipykernel_11120\\1632549978.py:7: SettingWithCopyWarning: \n",
      "A value is trying to be set on a copy of a slice from a DataFrame\n",
      "\n",
      "See the caveats in the documentation: https://pandas.pydata.org/pandas-docs/stable/user_guide/indexing.html#returning-a-view-versus-a-copy\n",
      "  ALQ11.dropna(axis=1, how=\"all\",inplace= True)\n",
      "C:\\Users\\seiff\\AppData\\Local\\Temp\\ipykernel_11120\\1632549978.py:8: SettingWithCopyWarning: \n",
      "A value is trying to be set on a copy of a slice from a DataFrame\n",
      "\n",
      "See the caveats in the documentation: https://pandas.pydata.org/pandas-docs/stable/user_guide/indexing.html#returning-a-view-versus-a-copy\n",
      "  ALQ99.dropna(axis=1, how=\"all\",inplace= True)\n"
     ]
    }
   ],
   "source": [
    "#separando por categoria\n",
    "ALQ10 = base.loc[base['Colun0'] == 10]\n",
    "ALQ11 = base.loc[base['Colun0'] == 11]\n",
    "ALQ99 = base.loc[base['Colun0'] == 99]\n",
    "\n",
    "ALQ10.dropna(axis=1, how=\"all\",inplace= True)\n",
    "ALQ11.dropna(axis=1, how=\"all\",inplace= True)\n",
    "ALQ99.dropna(axis=1, how=\"all\",inplace= True)"
   ]
  },
  {
   "cell_type": "code",
   "execution_count": 30,
   "metadata": {},
   "outputs": [
    {
     "name": "stderr",
     "output_type": "stream",
     "text": [
      "C:\\Users\\seiff\\AppData\\Local\\Temp\\ipykernel_11120\\3249201814.py:1: SettingWithCopyWarning: \n",
      "A value is trying to be set on a copy of a slice from a DataFrame\n",
      "\n",
      "See the caveats in the documentation: https://pandas.pydata.org/pandas-docs/stable/user_guide/indexing.html#returning-a-view-versus-a-copy\n",
      "  ALQ10.rename(columns={'Colun0': 'tipoRegistro', 'Colun1': 'codReduzido','Colun2': 'codOrgao','Colun3': 'codUnidadeSub',\n",
      "C:\\Users\\seiff\\AppData\\Local\\Temp\\ipykernel_11120\\3249201814.py:6: SettingWithCopyWarning: \n",
      "A value is trying to be set on a copy of a slice from a DataFrame\n",
      "\n",
      "See the caveats in the documentation: https://pandas.pydata.org/pandas-docs/stable/user_guide/indexing.html#returning-a-view-versus-a-copy\n",
      "  ALQ11.rename(columns={'Colun0': 'tipoRegistro', 'Colun1': 'codReduzido','Colun2': 'codFontRecursos','Colun3': 'codCO',\n",
      "C:\\Users\\seiff\\AppData\\Local\\Temp\\ipykernel_11120\\3249201814.py:10: SettingWithCopyWarning: \n",
      "A value is trying to be set on a copy of a slice from a DataFrame\n",
      "\n",
      "See the caveats in the documentation: https://pandas.pydata.org/pandas-docs/stable/user_guide/indexing.html#returning-a-view-versus-a-copy\n",
      "  ALQ99.rename(columns={'Colun0': 'tipoRegistro'\n"
     ]
    }
   ],
   "source": [
    "ALQ10.rename(columns={'Colun0': 'tipoRegistro', 'Colun1': 'codReduzido','Colun2': 'codOrgao','Colun3': 'codUnidadeSub',\n",
    "                      'Colun4': 'nroEmpenho', 'Colun5': 'dtEmpenho','Colun6': 'dtLiquidacao','Colun7': 'nroLiquidacao','Colun8': 'dtAnulacaoLiq', \n",
    "                      'Colun9': 'nroLiquidacaoANL','Colun10': 'tpLiquidacao', 'Colun11': 'justificativaAnulacao','Colun12': 'vlAnulado'\n",
    "                     },inplace= True)\n",
    "\n",
    "ALQ11.rename(columns={'Colun0': 'tipoRegistro', 'Colun1': 'codReduzido','Colun2': 'codFontRecursos','Colun3': 'codCO',\n",
    "                      'Colun4': 'valorAnuladoFonte'\n",
    "                     },inplace= True)\n",
    "\n",
    "ALQ99.rename(columns={'Colun0': 'tipoRegistro'\n",
    "                     },inplace= True)"
   ]
  },
  {
   "cell_type": "code",
   "execution_count": 31,
   "metadata": {},
   "outputs": [
    {
     "name": "stderr",
     "output_type": "stream",
     "text": [
      "<string>:3: SyntaxWarning: invalid escape sequence '\\{'\n",
      "<>:3: SyntaxWarning: invalid escape sequence '\\{'\n",
      "<string>:3: SyntaxWarning: invalid escape sequence '\\{'\n",
      "<>:3: SyntaxWarning: invalid escape sequence '\\{'\n",
      "C:\\Users\\seiff\\AppData\\Local\\Temp\\ipykernel_11120\\2851747721.py:3: SyntaxWarning: invalid escape sequence '\\{'\n",
      "  unir.to_excel(f\"{s_unir}\\{nameSalvar}_unificado.xlsx\", index=False)\n"
     ]
    }
   ],
   "source": [
    "unir = pd.concat([ALQ10,ALQ11,ALQ99])\n",
    "s_unir = r'G:\\Meu Drive\\Bases Dash Câmara BI\\Bases Unidas'\n",
    "unir.to_excel(f\"{s_unir}\\{nameSalvar}_unificado.xlsx\", index=False)"
   ]
  },
  {
   "cell_type": "code",
   "execution_count": 32,
   "metadata": {},
   "outputs": [
    {
     "name": "stderr",
     "output_type": "stream",
     "text": [
      "C:\\Users\\seiff\\AppData\\Local\\Temp\\ipykernel_11120\\2816930682.py:19: FutureWarning: The behavior of DataFrame concatenation with empty or all-NA entries is deprecated. In a future version, this will no longer exclude empty or all-NA columns when determining the result dtypes. To retain the old behavior, exclude the relevant entries before the concat operation.\n",
      "  base = pd.concat([base, base_arquivo], ignore_index=True)\n"
     ]
    }
   ],
   "source": [
    "# Caminho para os arquivos CSV do OPS\n",
    "caminho_diretorio = r'G:\\Meu Drive\\Bases Dash Câmara BI\\Base Original OPS'\n",
    "retornoDaFunc = unificandoDf(caminho_diretorio)\n",
    "base = retornoDaFunc[0]\n",
    "nameSalvar = retornoDaFunc[1]"
   ]
  },
  {
   "cell_type": "code",
   "execution_count": 33,
   "metadata": {},
   "outputs": [
    {
     "name": "stderr",
     "output_type": "stream",
     "text": [
      "C:\\Users\\seiff\\AppData\\Local\\Temp\\ipykernel_11120\\1267735967.py:8: SettingWithCopyWarning: \n",
      "A value is trying to be set on a copy of a slice from a DataFrame\n",
      "\n",
      "See the caveats in the documentation: https://pandas.pydata.org/pandas-docs/stable/user_guide/indexing.html#returning-a-view-versus-a-copy\n",
      "  OPS10.dropna(axis=1, how=\"all\",inplace= True)\n",
      "C:\\Users\\seiff\\AppData\\Local\\Temp\\ipykernel_11120\\1267735967.py:9: SettingWithCopyWarning: \n",
      "A value is trying to be set on a copy of a slice from a DataFrame\n",
      "\n",
      "See the caveats in the documentation: https://pandas.pydata.org/pandas-docs/stable/user_guide/indexing.html#returning-a-view-versus-a-copy\n",
      "  OPS11.dropna(axis=1, how=\"all\",inplace= True)\n",
      "C:\\Users\\seiff\\AppData\\Local\\Temp\\ipykernel_11120\\1267735967.py:10: SettingWithCopyWarning: \n",
      "A value is trying to be set on a copy of a slice from a DataFrame\n",
      "\n",
      "See the caveats in the documentation: https://pandas.pydata.org/pandas-docs/stable/user_guide/indexing.html#returning-a-view-versus-a-copy\n",
      "  OPS12.dropna(axis=1, how=\"all\",inplace= True)\n",
      "C:\\Users\\seiff\\AppData\\Local\\Temp\\ipykernel_11120\\1267735967.py:11: SettingWithCopyWarning: \n",
      "A value is trying to be set on a copy of a slice from a DataFrame\n",
      "\n",
      "See the caveats in the documentation: https://pandas.pydata.org/pandas-docs/stable/user_guide/indexing.html#returning-a-view-versus-a-copy\n",
      "  OPS13.dropna(axis=1, how=\"all\",inplace= True)\n",
      "C:\\Users\\seiff\\AppData\\Local\\Temp\\ipykernel_11120\\1267735967.py:12: SettingWithCopyWarning: \n",
      "A value is trying to be set on a copy of a slice from a DataFrame\n",
      "\n",
      "See the caveats in the documentation: https://pandas.pydata.org/pandas-docs/stable/user_guide/indexing.html#returning-a-view-versus-a-copy\n",
      "  OPS99.dropna(axis=1, how=\"all\",inplace= True)\n"
     ]
    }
   ],
   "source": [
    "#separando por categoria\n",
    "OPS10 = base.loc[base['Colun0'] == 10]\n",
    "OPS11 = base.loc[base['Colun0'] == 11]\n",
    "OPS12 = base.loc[base['Colun0'] == 12]\n",
    "OPS13 = base.loc[base['Colun0'] == 13]\n",
    "OPS99 = base.loc[base['Colun0'] == 99]\n",
    "\n",
    "OPS10.dropna(axis=1, how=\"all\",inplace= True)\n",
    "OPS11.dropna(axis=1, how=\"all\",inplace= True)\n",
    "OPS12.dropna(axis=1, how=\"all\",inplace= True)\n",
    "OPS13.dropna(axis=1, how=\"all\",inplace= True)\n",
    "OPS99.dropna(axis=1, how=\"all\",inplace= True)"
   ]
  },
  {
   "cell_type": "code",
   "execution_count": 34,
   "metadata": {},
   "outputs": [
    {
     "name": "stderr",
     "output_type": "stream",
     "text": [
      "C:\\Users\\seiff\\AppData\\Local\\Temp\\ipykernel_11120\\505514246.py:1: SettingWithCopyWarning: \n",
      "A value is trying to be set on a copy of a slice from a DataFrame\n",
      "\n",
      "See the caveats in the documentation: https://pandas.pydata.org/pandas-docs/stable/user_guide/indexing.html#returning-a-view-versus-a-copy\n",
      "  OPS10.rename(columns={'Colun0': 'tipoRegistro', 'Colun1': 'codOrgao','Colun2': 'codUnidadeSub','Colun3': 'nroOP',\n",
      "C:\\Users\\seiff\\AppData\\Local\\Temp\\ipykernel_11120\\505514246.py:5: SettingWithCopyWarning: \n",
      "A value is trying to be set on a copy of a slice from a DataFrame\n",
      "\n",
      "See the caveats in the documentation: https://pandas.pydata.org/pandas-docs/stable/user_guide/indexing.html#returning-a-view-versus-a-copy\n",
      "  OPS11.rename(columns={'Colun0': 'tipoRegistro', 'Colun1': 'codReduzidoOP','Colun2': 'codUnidadeSub','Colun3': 'nroOP',\n",
      "C:\\Users\\seiff\\AppData\\Local\\Temp\\ipykernel_11120\\505514246.py:12: SettingWithCopyWarning: \n",
      "A value is trying to be set on a copy of a slice from a DataFrame\n",
      "\n",
      "See the caveats in the documentation: https://pandas.pydata.org/pandas-docs/stable/user_guide/indexing.html#returning-a-view-versus-a-copy\n",
      "  OPS12.rename(columns={'Colun0': 'tipoRegistro', 'Colun1': 'codReduzidoOP','Colun2': 'tipoDocumentoOP','Colun3': 'nroDocumento',\n",
      "C:\\Users\\seiff\\AppData\\Local\\Temp\\ipykernel_11120\\505514246.py:17: SettingWithCopyWarning: \n",
      "A value is trying to be set on a copy of a slice from a DataFrame\n",
      "\n",
      "See the caveats in the documentation: https://pandas.pydata.org/pandas-docs/stable/user_guide/indexing.html#returning-a-view-versus-a-copy\n",
      "  OPS13.rename(columns={'Colun0': 'tipoRegistro', 'Colun1': 'codReduzidoOP','Colun2': 'tipoRetencao','Colun3': 'descricaoRetencao',\n",
      "C:\\Users\\seiff\\AppData\\Local\\Temp\\ipykernel_11120\\505514246.py:22: SettingWithCopyWarning: \n",
      "A value is trying to be set on a copy of a slice from a DataFrame\n",
      "\n",
      "See the caveats in the documentation: https://pandas.pydata.org/pandas-docs/stable/user_guide/indexing.html#returning-a-view-versus-a-copy\n",
      "  OPS99.rename(columns={'Colun0': 'tipoRegistro'\n"
     ]
    }
   ],
   "source": [
    "OPS10.rename(columns={'Colun0': 'tipoRegistro', 'Colun1': 'codOrgao','Colun2': 'codUnidadeSub','Colun3': 'nroOP',\n",
    "                      'Colun4': 'dtPagamento', 'Colun5': 'vlOP','Colun6': 'especificacaoOP','Colun7': 'cpfRespPgto'\n",
    "                      },inplace= True)\n",
    "\n",
    "OPS11.rename(columns={'Colun0': 'tipoRegistro', 'Colun1': 'codReduzidoOP','Colun2': 'codUnidadeSub','Colun3': 'nroOP',\n",
    "                      'Colun4': 'dtPagamento','Colun5': 'tipoPagamento','Colun6': 'nroEmpenho','Colun7': 'dtEmpenho',\n",
    "                      'Colun8': 'nroLiquidacao','Colun9': 'dtLiquidacao','Colun10': 'codFontRecursos', 'Colun11': 'codCO',\n",
    "                      'Colun12': 'valorFonte','Colun13': 'tipoDocumentoCredor','Colun14': 'nroDocumento','Colun15': 'codOrgaoEmpOP',\n",
    "                      'Colun16': 'codUnidadeEmpOP'\n",
    "                     },inplace= True)\n",
    "\n",
    "OPS12.rename(columns={'Colun0': 'tipoRegistro', 'Colun1': 'codReduzidoOP','Colun2': 'tipoDocumentoOP','Colun3': 'nroDocumento',\n",
    "                      'Colun4': 'codCTB','Colun5': 'codFonteCTB','Colun6': 'descTipoDocumentoOP','Colun7': 'dtEmissao',\n",
    "                      'Colun8': 'vlDocumento'\n",
    "                     },inplace= True)\n",
    "\n",
    "OPS13.rename(columns={'Colun0': 'tipoRegistro', 'Colun1': 'codReduzidoOP','Colun2': 'tipoRetencao','Colun3': 'descricaoRetencao',\n",
    "                      'Colun4': 'vlRetencao'\n",
    "                     },inplace= True)\n",
    "\n",
    "\n",
    "OPS99.rename(columns={'Colun0': 'tipoRegistro'\n",
    "                     },inplace= True)"
   ]
  },
  {
   "cell_type": "code",
   "execution_count": 35,
   "metadata": {},
   "outputs": [
    {
     "name": "stderr",
     "output_type": "stream",
     "text": [
      "<string>:3: SyntaxWarning: invalid escape sequence '\\{'\n",
      "<>:3: SyntaxWarning: invalid escape sequence '\\{'\n",
      "<string>:3: SyntaxWarning: invalid escape sequence '\\{'\n",
      "<>:3: SyntaxWarning: invalid escape sequence '\\{'\n",
      "C:\\Users\\seiff\\AppData\\Local\\Temp\\ipykernel_11120\\774864922.py:3: SyntaxWarning: invalid escape sequence '\\{'\n",
      "  unir.to_excel(f\"{s_unir}\\{nameSalvar}_unificado.xlsx\", index=False)\n"
     ]
    }
   ],
   "source": [
    "unir = pd.concat([OPS10,OPS11,OPS12,OPS13,OPS99])\n",
    "s_unir = r'G:\\Meu Drive\\Bases Dash Câmara BI\\Bases Unidas'\n",
    "unir.to_excel(f\"{s_unir}\\{nameSalvar}_unificado.xlsx\", index=False)"
   ]
  },
  {
   "cell_type": "code",
   "execution_count": 36,
   "metadata": {},
   "outputs": [],
   "source": [
    "# Caminho para os arquivos CSV do AOP\n",
    "caminho_diretorio = r'G:\\Meu Drive\\Bases Dash Câmara BI\\Base Original AOP'\n",
    "retornoDaFunc = unificandoDf(caminho_diretorio)\n",
    "base = retornoDaFunc[0]\n",
    "nameSalvar = retornoDaFunc[1]"
   ]
  },
  {
   "cell_type": "code",
   "execution_count": 37,
   "metadata": {},
   "outputs": [
    {
     "name": "stderr",
     "output_type": "stream",
     "text": [
      "C:\\Users\\seiff\\AppData\\Local\\Temp\\ipykernel_11120\\3581577104.py:9: SettingWithCopyWarning: \n",
      "A value is trying to be set on a copy of a slice from a DataFrame\n",
      "\n",
      "See the caveats in the documentation: https://pandas.pydata.org/pandas-docs/stable/user_guide/indexing.html#returning-a-view-versus-a-copy\n",
      "  AOP10.dropna(axis=1, how=\"all\",inplace= True)\n",
      "C:\\Users\\seiff\\AppData\\Local\\Temp\\ipykernel_11120\\3581577104.py:10: SettingWithCopyWarning: \n",
      "A value is trying to be set on a copy of a slice from a DataFrame\n",
      "\n",
      "See the caveats in the documentation: https://pandas.pydata.org/pandas-docs/stable/user_guide/indexing.html#returning-a-view-versus-a-copy\n",
      "  AOP11.dropna(axis=1, how=\"all\",inplace= True)\n",
      "C:\\Users\\seiff\\AppData\\Local\\Temp\\ipykernel_11120\\3581577104.py:11: SettingWithCopyWarning: \n",
      "A value is trying to be set on a copy of a slice from a DataFrame\n",
      "\n",
      "See the caveats in the documentation: https://pandas.pydata.org/pandas-docs/stable/user_guide/indexing.html#returning-a-view-versus-a-copy\n",
      "  AOP12.dropna(axis=1, how=\"all\",inplace= True)\n",
      "C:\\Users\\seiff\\AppData\\Local\\Temp\\ipykernel_11120\\3581577104.py:12: SettingWithCopyWarning: \n",
      "A value is trying to be set on a copy of a slice from a DataFrame\n",
      "\n",
      "See the caveats in the documentation: https://pandas.pydata.org/pandas-docs/stable/user_guide/indexing.html#returning-a-view-versus-a-copy\n",
      "  AOP13.dropna(axis=1, how=\"all\",inplace= True)\n",
      "C:\\Users\\seiff\\AppData\\Local\\Temp\\ipykernel_11120\\3581577104.py:13: SettingWithCopyWarning: \n",
      "A value is trying to be set on a copy of a slice from a DataFrame\n",
      "\n",
      "See the caveats in the documentation: https://pandas.pydata.org/pandas-docs/stable/user_guide/indexing.html#returning-a-view-versus-a-copy\n",
      "  AOP14.dropna(axis=1, how=\"all\",inplace= True)\n"
     ]
    }
   ],
   "source": [
    "#separando por categoria\n",
    "AOP10 = base.loc[base['Colun0'] == 10]\n",
    "AOP11 = base.loc[base['Colun0'] == 11]\n",
    "AOP12 = base.loc[base['Colun0'] == 12]\n",
    "AOP13 = base.loc[base['Colun0'] == 13]\n",
    "AOP14 = base.loc[base['Colun0'] == 14]\n",
    "AOP99 = base.loc[base['Colun0'] == 99]\n",
    "\n",
    "AOP10.dropna(axis=1, how=\"all\",inplace= True)\n",
    "AOP11.dropna(axis=1, how=\"all\",inplace= True)\n",
    "AOP12.dropna(axis=1, how=\"all\",inplace= True)\n",
    "AOP13.dropna(axis=1, how=\"all\",inplace= True)\n",
    "AOP14.dropna(axis=1, how=\"all\",inplace= True)\n",
    "AOP99.dropna(axis=1, how=\"all\",inplace= True)"
   ]
  },
  {
   "cell_type": "code",
   "execution_count": 38,
   "metadata": {},
   "outputs": [
    {
     "name": "stderr",
     "output_type": "stream",
     "text": [
      "C:\\Users\\seiff\\AppData\\Local\\Temp\\ipykernel_11120\\1325605464.py:1: SettingWithCopyWarning: \n",
      "A value is trying to be set on a copy of a slice from a DataFrame\n",
      "\n",
      "See the caveats in the documentation: https://pandas.pydata.org/pandas-docs/stable/user_guide/indexing.html#returning-a-view-versus-a-copy\n",
      "  AOP10.rename(columns={'Colun0': 'tipoRegistro', 'Colun1': 'codOrgao','Colun2': 'codUnidadeSub','Colun3': 'nroOP',\n",
      "C:\\Users\\seiff\\AppData\\Local\\Temp\\ipykernel_11120\\1325605464.py:6: SettingWithCopyWarning: \n",
      "A value is trying to be set on a copy of a slice from a DataFrame\n",
      "\n",
      "See the caveats in the documentation: https://pandas.pydata.org/pandas-docs/stable/user_guide/indexing.html#returning-a-view-versus-a-copy\n",
      "  AOP11.rename(columns={'Colun0': 'tipoRegistro', 'Colun1': 'codReduzidoAOP','Colun2': 'codOrgao','Colun3': 'codUnidadeSub',\n",
      "C:\\Users\\seiff\\AppData\\Local\\Temp\\ipykernel_11120\\1325605464.py:12: SettingWithCopyWarning: \n",
      "A value is trying to be set on a copy of a slice from a DataFrame\n",
      "\n",
      "See the caveats in the documentation: https://pandas.pydata.org/pandas-docs/stable/user_guide/indexing.html#returning-a-view-versus-a-copy\n",
      "  AOP12.rename(columns={'Colun0': 'tipoRegistro', 'Colun1': 'codReduzidoAOP','Colun2': 'tipoDocumentoOP','Colun3': 'nroDocumento',\n",
      "C:\\Users\\seiff\\AppData\\Local\\Temp\\ipykernel_11120\\1325605464.py:17: SettingWithCopyWarning: \n",
      "A value is trying to be set on a copy of a slice from a DataFrame\n",
      "\n",
      "See the caveats in the documentation: https://pandas.pydata.org/pandas-docs/stable/user_guide/indexing.html#returning-a-view-versus-a-copy\n",
      "  AOP13.rename(columns={'Colun0': 'tipoRegistro', 'Colun1': 'codReduzidoAOP','Colun2': 'tipoRetencao','Colun3': 'descricaoRetencao',\n",
      "C:\\Users\\seiff\\AppData\\Local\\Temp\\ipykernel_11120\\1325605464.py:21: SettingWithCopyWarning: \n",
      "A value is trying to be set on a copy of a slice from a DataFrame\n",
      "\n",
      "See the caveats in the documentation: https://pandas.pydata.org/pandas-docs/stable/user_guide/indexing.html#returning-a-view-versus-a-copy\n",
      "  AOP14.rename(columns={'Colun0': 'tipoRegistro', 'Colun1': 'codReduzidoAOP','Colun2': 'tipoVlAntecipado','Colun3': 'descricaoVlAntecipado',\n"
     ]
    }
   ],
   "source": [
    "AOP10.rename(columns={'Colun0': 'tipoRegistro', 'Colun1': 'codOrgao','Colun2': 'codUnidadeSub','Colun3': 'nroOP',\n",
    "                      'Colun4': 'dtPagamento','Colun5': 'nroAnulacaoOP','Colun6': 'dtAnulacaoOP','Colun7': 'justificativaAnulacao',\n",
    "                      'Colun8': 'vlAnulacaoOP'\n",
    "                     },inplace= True)\n",
    "\n",
    "AOP11.rename(columns={'Colun0': 'tipoRegistro', 'Colun1': 'codReduzidoAOP','Colun2': 'codOrgao','Colun3': 'codUnidadeSub',\n",
    "                      'Colun4': 'nroOP','Colun5': 'dtPagamento','Colun6': 'nroAnulacaoOP','Colun7': 'dtAnulacaoOP',\n",
    "                      'Colun8': 'tipoPagamento','Colun9': 'nroEmpenho','Colun10': 'dtEmpenho','Colun11': 'nroLiquidacao',\n",
    "                      'Colun12': 'dtLiquidacao','Colun13': 'codFontRecursos','Colun14': 'codCO','Colun15': 'valorAnulacaoFonte'\n",
    "                     },inplace= True)\n",
    "\n",
    "AOP12.rename(columns={'Colun0': 'tipoRegistro', 'Colun1': 'codReduzidoAOP','Colun2': 'tipoDocumentoOP','Colun3': 'nroDocumento',\n",
    "                      'Colun4': 'codCTB','Colun5': 'codFonteCTB','Colun6': 'descTipoDocumentoOP','Colun7': 'dtEmissao',\n",
    "                      'Colun8': 'vlDocumento'\n",
    "                     },inplace= True)\n",
    "\n",
    "AOP13.rename(columns={'Colun0': 'tipoRegistro', 'Colun1': 'codReduzidoAOP','Colun2': 'tipoRetencao','Colun3': 'descricaoRetencao',\n",
    "                      'Colun4': 'vlRetencao'\n",
    "                     },inplace= True)\n",
    "\n",
    "AOP14.rename(columns={'Colun0': 'tipoRegistro', 'Colun1': 'codReduzidoAOP','Colun2': 'tipoVlAntecipado','Colun3': 'descricaoVlAntecipado',\n",
    "                      'Colun4': 'vlAntecipado'\n",
    "                     },inplace= True)\n",
    "\n",
    "AOP99.rename(columns={'Colun0': 'tipoRegistro'\n",
    "                     },inplace= True)"
   ]
  },
  {
   "cell_type": "code",
   "execution_count": 39,
   "metadata": {},
   "outputs": [
    {
     "name": "stderr",
     "output_type": "stream",
     "text": [
      "<string>:3: SyntaxWarning: invalid escape sequence '\\{'\n",
      "<>:3: SyntaxWarning: invalid escape sequence '\\{'\n",
      "<string>:3: SyntaxWarning: invalid escape sequence '\\{'\n",
      "<>:3: SyntaxWarning: invalid escape sequence '\\{'\n",
      "C:\\Users\\seiff\\AppData\\Local\\Temp\\ipykernel_11120\\2281717641.py:3: SyntaxWarning: invalid escape sequence '\\{'\n",
      "  unir.to_excel(f\"{s_unir}\\{nameSalvar}_unificado.xlsx\", index=False)\n"
     ]
    }
   ],
   "source": [
    "unir = pd.concat([AOP10,AOP11,AOP12,AOP13,AOP14,AOP99])\n",
    "s_unir = r'G:\\Meu Drive\\Bases Dash Câmara BI\\Bases Unidas'\n",
    "unir.to_excel(f\"{s_unir}\\{nameSalvar}_unificado.xlsx\", index=False)"
   ]
  },
  {
   "cell_type": "code",
   "execution_count": 40,
   "metadata": {},
   "outputs": [
    {
     "name": "stderr",
     "output_type": "stream",
     "text": [
      "C:\\Users\\seiff\\AppData\\Local\\Temp\\ipykernel_11120\\2816930682.py:19: FutureWarning: The behavior of DataFrame concatenation with empty or all-NA entries is deprecated. In a future version, this will no longer exclude empty or all-NA columns when determining the result dtypes. To retain the old behavior, exclude the relevant entries before the concat operation.\n",
      "  base = pd.concat([base, base_arquivo], ignore_index=True)\n"
     ]
    }
   ],
   "source": [
    "# Caminho para os arquivos CSV do EXT\n",
    "caminho_diretorio = r'G:\\Meu Drive\\Bases Dash Câmara BI\\Base Original EXT'\n",
    "retornoDaFunc = unificandoDf(caminho_diretorio)\n",
    "base = retornoDaFunc[0]\n",
    "nameSalvar = retornoDaFunc[1]"
   ]
  },
  {
   "cell_type": "code",
   "execution_count": 41,
   "metadata": {},
   "outputs": [
    {
     "name": "stderr",
     "output_type": "stream",
     "text": [
      "C:\\Users\\seiff\\AppData\\Local\\Temp\\ipykernel_11120\\2215953541.py:9: SettingWithCopyWarning: \n",
      "A value is trying to be set on a copy of a slice from a DataFrame\n",
      "\n",
      "See the caveats in the documentation: https://pandas.pydata.org/pandas-docs/stable/user_guide/indexing.html#returning-a-view-versus-a-copy\n",
      "  EXT10.dropna(axis=1, how=\"all\",inplace= True)\n",
      "C:\\Users\\seiff\\AppData\\Local\\Temp\\ipykernel_11120\\2215953541.py:10: SettingWithCopyWarning: \n",
      "A value is trying to be set on a copy of a slice from a DataFrame\n",
      "\n",
      "See the caveats in the documentation: https://pandas.pydata.org/pandas-docs/stable/user_guide/indexing.html#returning-a-view-versus-a-copy\n",
      "  EXT20.dropna(axis=1, how=\"all\",inplace= True)\n",
      "C:\\Users\\seiff\\AppData\\Local\\Temp\\ipykernel_11120\\2215953541.py:11: SettingWithCopyWarning: \n",
      "A value is trying to be set on a copy of a slice from a DataFrame\n",
      "\n",
      "See the caveats in the documentation: https://pandas.pydata.org/pandas-docs/stable/user_guide/indexing.html#returning-a-view-versus-a-copy\n",
      "  EXT30.dropna(axis=1, how=\"all\",inplace= True)\n",
      "C:\\Users\\seiff\\AppData\\Local\\Temp\\ipykernel_11120\\2215953541.py:12: SettingWithCopyWarning: \n",
      "A value is trying to be set on a copy of a slice from a DataFrame\n",
      "\n",
      "See the caveats in the documentation: https://pandas.pydata.org/pandas-docs/stable/user_guide/indexing.html#returning-a-view-versus-a-copy\n",
      "  EXT31.dropna(axis=1, how=\"all\",inplace= True)\n",
      "C:\\Users\\seiff\\AppData\\Local\\Temp\\ipykernel_11120\\2215953541.py:13: SettingWithCopyWarning: \n",
      "A value is trying to be set on a copy of a slice from a DataFrame\n",
      "\n",
      "See the caveats in the documentation: https://pandas.pydata.org/pandas-docs/stable/user_guide/indexing.html#returning-a-view-versus-a-copy\n",
      "  EXT32.dropna(axis=1, how=\"all\",inplace= True)\n",
      "C:\\Users\\seiff\\AppData\\Local\\Temp\\ipykernel_11120\\2215953541.py:14: SettingWithCopyWarning: \n",
      "A value is trying to be set on a copy of a slice from a DataFrame\n",
      "\n",
      "See the caveats in the documentation: https://pandas.pydata.org/pandas-docs/stable/user_guide/indexing.html#returning-a-view-versus-a-copy\n",
      "  EXT99.dropna(axis=1, how=\"all\",inplace= True)\n"
     ]
    }
   ],
   "source": [
    "#separando por categoria\n",
    "EXT10 = base.loc[base['Colun0'] == 10]\n",
    "EXT20 = base.loc[base['Colun0'] == 20]\n",
    "EXT30 = base.loc[base['Colun0'] == 30]\n",
    "EXT31 = base.loc[base['Colun0'] == 31]\n",
    "EXT32 = base.loc[base['Colun0'] == 32]\n",
    "EXT99 = base.loc[base['Colun0'] == 99]\n",
    "\n",
    "EXT10.dropna(axis=1, how=\"all\",inplace= True)\n",
    "EXT20.dropna(axis=1, how=\"all\",inplace= True)\n",
    "EXT30.dropna(axis=1, how=\"all\",inplace= True)\n",
    "EXT31.dropna(axis=1, how=\"all\",inplace= True)\n",
    "EXT32.dropna(axis=1, how=\"all\",inplace= True)\n",
    "EXT99.dropna(axis=1, how=\"all\",inplace= True)"
   ]
  },
  {
   "cell_type": "code",
   "execution_count": 42,
   "metadata": {},
   "outputs": [
    {
     "name": "stderr",
     "output_type": "stream",
     "text": [
      "C:\\Users\\seiff\\AppData\\Local\\Temp\\ipykernel_11120\\1345418695.py:1: SettingWithCopyWarning: \n",
      "A value is trying to be set on a copy of a slice from a DataFrame\n",
      "\n",
      "See the caveats in the documentation: https://pandas.pydata.org/pandas-docs/stable/user_guide/indexing.html#returning-a-view-versus-a-copy\n",
      "  EXT10.rename(columns={'Colun0': 'tipoRegistro', 'Colun1': 'codEXT','Colun2': 'codOrgao','Colun3': 'tipoLancamento',\n",
      "C:\\Users\\seiff\\AppData\\Local\\Temp\\ipykernel_11120\\1345418695.py:5: SettingWithCopyWarning: \n",
      "A value is trying to be set on a copy of a slice from a DataFrame\n",
      "\n",
      "See the caveats in the documentation: https://pandas.pydata.org/pandas-docs/stable/user_guide/indexing.html#returning-a-view-versus-a-copy\n",
      "  EXT20.rename(columns={'Colun0': 'tipoRegistro', 'Colun1': 'codOrgao','Colun2': 'codEXT','Colun3': 'codFontRecursos',\n",
      "C:\\Users\\seiff\\AppData\\Local\\Temp\\ipykernel_11120\\1345418695.py:10: SettingWithCopyWarning: \n",
      "A value is trying to be set on a copy of a slice from a DataFrame\n",
      "\n",
      "See the caveats in the documentation: https://pandas.pydata.org/pandas-docs/stable/user_guide/indexing.html#returning-a-view-versus-a-copy\n",
      "  EXT30.rename(columns={'Colun0': 'tipoRegistro', 'Colun1': 'codEXT','Colun2': 'codFontRecursos','Colun3': 'codReduzidoOP',\n",
      "C:\\Users\\seiff\\AppData\\Local\\Temp\\ipykernel_11120\\1345418695.py:15: SettingWithCopyWarning: \n",
      "A value is trying to be set on a copy of a slice from a DataFrame\n",
      "\n",
      "See the caveats in the documentation: https://pandas.pydata.org/pandas-docs/stable/user_guide/indexing.html#returning-a-view-versus-a-copy\n",
      "  EXT31.rename(columns={'Colun0': 'tipoRegistro', 'Colun1': 'codReduzidoOP','Colun2': 'tipoDocumentoOP','Colun3': 'nroDocumento',\n",
      "C:\\Users\\seiff\\AppData\\Local\\Temp\\ipykernel_11120\\1345418695.py:20: SettingWithCopyWarning: \n",
      "A value is trying to be set on a copy of a slice from a DataFrame\n",
      "\n",
      "See the caveats in the documentation: https://pandas.pydata.org/pandas-docs/stable/user_guide/indexing.html#returning-a-view-versus-a-copy\n",
      "  EXT32.rename(columns={'Colun0': 'tipoRegistro', 'Colun1': 'codReduzidoOP','Colun2': 'tipoRetencao','Colun3': 'descricaoRetencao',\n",
      "C:\\Users\\seiff\\AppData\\Local\\Temp\\ipykernel_11120\\1345418695.py:24: SettingWithCopyWarning: \n",
      "A value is trying to be set on a copy of a slice from a DataFrame\n",
      "\n",
      "See the caveats in the documentation: https://pandas.pydata.org/pandas-docs/stable/user_guide/indexing.html#returning-a-view-versus-a-copy\n",
      "  EXT99.rename(columns={'Colun0': 'tipoRegistro'\n"
     ]
    }
   ],
   "source": [
    "EXT10.rename(columns={'Colun0': 'tipoRegistro', 'Colun1': 'codEXT','Colun2': 'codOrgao','Colun3': 'tipoLancamento',\n",
    "                      'Colun4': 'subTipo','Colun5': 'desdobraSubTipo','Colun6': 'descExtraOrc'\n",
    "                     },inplace= True)\n",
    "\n",
    "EXT20.rename(columns={'Colun0': 'tipoRegistro', 'Colun1': 'codOrgao','Colun2': 'codEXT','Colun3': 'codFontRecursos',\n",
    "                      'Colun4': 'exercicioCompDevo','Colun5': 'vlSaldoAnteriorFonte','Colun6': 'natSaldoAnteriorFonte','Colun7': 'totalDebitos',\n",
    "                      'Colun8': 'totalCreditos','Colun9': 'vlSaldoAtualFonte','Colun10': 'natSaldoAtualFonte'\n",
    "                     },inplace= True)\n",
    "\n",
    "EXT30.rename(columns={'Colun0': 'tipoRegistro', 'Colun1': 'codEXT','Colun2': 'codFontRecursos','Colun3': 'codReduzidoOP',\n",
    "                      'Colun4': 'nroOP','Colun5': 'codUnidadeSub','Colun6': 'dtPagamento','Colun7': 'tipoDocumentoCredor',\n",
    "                      'Colun8': 'nroDocumentoCredor','Colun9': 'vlOP','Colun10': 'especificacaoOP','Colun11': 'cpfRespPgto',\n",
    "                     },inplace= True)\n",
    "\n",
    "EXT31.rename(columns={'Colun0': 'tipoRegistro', 'Colun1': 'codReduzidoOP','Colun2': 'tipoDocumentoOP','Colun3': 'nroDocumento',\n",
    "                      'Colun4': 'codCTB','Colun5': 'codFonteCTB','Colun6': 'descTipoDocumentoOP','Colun7': 'dtEmissao',\n",
    "                      'Colun8': 'vlDocumento'\n",
    "                     },inplace= True)\n",
    "\n",
    "EXT32.rename(columns={'Colun0': 'tipoRegistro', 'Colun1': 'codReduzidoOP','Colun2': 'tipoRetencao','Colun3': 'descricaoRetencao',\n",
    "                      'Colun4': 'vlRetencao'\n",
    "                     },inplace= True)\n",
    "\n",
    "EXT99.rename(columns={'Colun0': 'tipoRegistro'\n",
    "                     },inplace= True)"
   ]
  },
  {
   "cell_type": "code",
   "execution_count": 43,
   "metadata": {},
   "outputs": [
    {
     "name": "stderr",
     "output_type": "stream",
     "text": [
      "<string>:3: SyntaxWarning: invalid escape sequence '\\{'\n",
      "<>:3: SyntaxWarning: invalid escape sequence '\\{'\n",
      "<string>:3: SyntaxWarning: invalid escape sequence '\\{'\n",
      "<>:3: SyntaxWarning: invalid escape sequence '\\{'\n",
      "C:\\Users\\seiff\\AppData\\Local\\Temp\\ipykernel_11120\\1895944613.py:3: SyntaxWarning: invalid escape sequence '\\{'\n",
      "  unir.to_excel(f\"{s_unir}\\{nameSalvar}_unificado.xlsx\", index=False)\n"
     ]
    }
   ],
   "source": [
    "unir = pd.concat([EXT10,EXT20,EXT30,EXT31,EXT32,EXT99])\n",
    "s_unir = r'G:\\Meu Drive\\Bases Dash Câmara BI\\Bases Unidas'\n",
    "unir.to_excel(f\"{s_unir}\\{nameSalvar}_unificado.xlsx\", index=False)"
   ]
  },
  {
   "cell_type": "code",
   "execution_count": 44,
   "metadata": {},
   "outputs": [],
   "source": [
    "# Caminho para os arquivos CSV do AEX\n",
    "caminho_diretorio = r'G:\\Meu Drive\\Bases Dash Câmara BI\\Base Original AEX'\n",
    "retornoDaFunc = unificandoDf(caminho_diretorio)\n",
    "base = retornoDaFunc[0]\n",
    "nameSalvar = retornoDaFunc[1]"
   ]
  },
  {
   "cell_type": "code",
   "execution_count": 45,
   "metadata": {},
   "outputs": [
    {
     "name": "stderr",
     "output_type": "stream",
     "text": [
      "C:\\Users\\seiff\\AppData\\Local\\Temp\\ipykernel_11120\\3962448956.py:5: SettingWithCopyWarning: \n",
      "A value is trying to be set on a copy of a slice from a DataFrame\n",
      "\n",
      "See the caveats in the documentation: https://pandas.pydata.org/pandas-docs/stable/user_guide/indexing.html#returning-a-view-versus-a-copy\n",
      "  AEX10.dropna(axis=1, how=\"all\",inplace= True)\n",
      "C:\\Users\\seiff\\AppData\\Local\\Temp\\ipykernel_11120\\3962448956.py:6: SettingWithCopyWarning: \n",
      "A value is trying to be set on a copy of a slice from a DataFrame\n",
      "\n",
      "See the caveats in the documentation: https://pandas.pydata.org/pandas-docs/stable/user_guide/indexing.html#returning-a-view-versus-a-copy\n",
      "  AEX99.dropna(axis=1, how=\"all\",inplace= True)\n"
     ]
    }
   ],
   "source": [
    "#separando por categoria\n",
    "AEX10 = base.loc[base['Colun0'] == 10]\n",
    "AEX99 = base.loc[base['Colun0'] == 99]\n",
    "\n",
    "AEX10.dropna(axis=1, how=\"all\",inplace= True)\n",
    "AEX99.dropna(axis=1, how=\"all\",inplace= True)"
   ]
  },
  {
   "cell_type": "code",
   "execution_count": 46,
   "metadata": {},
   "outputs": [
    {
     "name": "stderr",
     "output_type": "stream",
     "text": [
      "C:\\Users\\seiff\\AppData\\Local\\Temp\\ipykernel_11120\\2896248395.py:1: SettingWithCopyWarning: \n",
      "A value is trying to be set on a copy of a slice from a DataFrame\n",
      "\n",
      "See the caveats in the documentation: https://pandas.pydata.org/pandas-docs/stable/user_guide/indexing.html#returning-a-view-versus-a-copy\n",
      "  AEX10.rename(columns={'Colun0': 'tipoRegistro', 'Colun1': 'codEXT','Colun2': 'codFontRecursos','Colun3': 'nroOP',\n",
      "C:\\Users\\seiff\\AppData\\Local\\Temp\\ipykernel_11120\\2896248395.py:6: SettingWithCopyWarning: \n",
      "A value is trying to be set on a copy of a slice from a DataFrame\n",
      "\n",
      "See the caveats in the documentation: https://pandas.pydata.org/pandas-docs/stable/user_guide/indexing.html#returning-a-view-versus-a-copy\n",
      "  AEX99.rename(columns={'Colun0': 'tipoRegistro'\n"
     ]
    }
   ],
   "source": [
    "AEX10.rename(columns={'Colun0': 'tipoRegistro', 'Colun1': 'codEXT','Colun2': 'codFontRecursos','Colun3': 'nroOP',\n",
    "                      'Colun4': 'codUnidadeSub','Colun5': 'dtPagamento','Colun6': 'nroAnulacaoOP','Colun7': 'dtAnulacaoOP',\n",
    "                      'Colun8': 'vlAnulacaoOP'\n",
    "                     },inplace= True)\n",
    "\n",
    "AEX99.rename(columns={'Colun0': 'tipoRegistro'\n",
    "                     },inplace= True)"
   ]
  },
  {
   "cell_type": "code",
   "execution_count": 47,
   "metadata": {},
   "outputs": [
    {
     "name": "stderr",
     "output_type": "stream",
     "text": [
      "<string>:3: SyntaxWarning: invalid escape sequence '\\{'\n",
      "<>:3: SyntaxWarning: invalid escape sequence '\\{'\n",
      "<string>:3: SyntaxWarning: invalid escape sequence '\\{'\n",
      "<>:3: SyntaxWarning: invalid escape sequence '\\{'\n",
      "C:\\Users\\seiff\\AppData\\Local\\Temp\\ipykernel_11120\\2581056924.py:3: SyntaxWarning: invalid escape sequence '\\{'\n",
      "  unir.to_excel(f\"{s_unir}\\{nameSalvar}_unificado.xlsx\", index=False)\n"
     ]
    }
   ],
   "source": [
    "unir = pd.concat([AEX10,AEX99])\n",
    "s_unir = r'G:\\Meu Drive\\Bases Dash Câmara BI\\Bases Unidas'\n",
    "unir.to_excel(f\"{s_unir}\\{nameSalvar}_unificado.xlsx\", index=False)"
   ]
  },
  {
   "cell_type": "code",
   "execution_count": 48,
   "metadata": {},
   "outputs": [],
   "source": [
    "# Caminho para os arquivos CSV do REC\n",
    "caminho_diretorio = r'G:\\Meu Drive\\Bases Dash Câmara BI\\Base Original REC'\n",
    "retornoDaFunc = unificandoDf(caminho_diretorio)\n",
    "base = retornoDaFunc[0]\n",
    "nameSalvar = retornoDaFunc[1]"
   ]
  },
  {
   "cell_type": "code",
   "execution_count": 49,
   "metadata": {},
   "outputs": [
    {
     "name": "stderr",
     "output_type": "stream",
     "text": [
      "C:\\Users\\seiff\\AppData\\Local\\Temp\\ipykernel_11120\\186397953.py:6: SettingWithCopyWarning: \n",
      "A value is trying to be set on a copy of a slice from a DataFrame\n",
      "\n",
      "See the caveats in the documentation: https://pandas.pydata.org/pandas-docs/stable/user_guide/indexing.html#returning-a-view-versus-a-copy\n",
      "  REC10.dropna(axis=1, how=\"all\",inplace= True)\n",
      "C:\\Users\\seiff\\AppData\\Local\\Temp\\ipykernel_11120\\186397953.py:7: SettingWithCopyWarning: \n",
      "A value is trying to be set on a copy of a slice from a DataFrame\n",
      "\n",
      "See the caveats in the documentation: https://pandas.pydata.org/pandas-docs/stable/user_guide/indexing.html#returning-a-view-versus-a-copy\n",
      "  REC11.dropna(axis=1, how=\"all\",inplace= True)\n",
      "C:\\Users\\seiff\\AppData\\Local\\Temp\\ipykernel_11120\\186397953.py:8: SettingWithCopyWarning: \n",
      "A value is trying to be set on a copy of a slice from a DataFrame\n",
      "\n",
      "See the caveats in the documentation: https://pandas.pydata.org/pandas-docs/stable/user_guide/indexing.html#returning-a-view-versus-a-copy\n",
      "  REC99.dropna(axis=1, how=\"all\",inplace= True)\n"
     ]
    }
   ],
   "source": [
    "#separando por categoria\n",
    "REC10 = base.loc[base['Colun0'] == 10]\n",
    "REC11 = base.loc[base['Colun0'] == 11]\n",
    "REC99 = base.loc[base['Colun0'] == 99]\n",
    "\n",
    "REC10.dropna(axis=1, how=\"all\",inplace= True)\n",
    "REC11.dropna(axis=1, how=\"all\",inplace= True)\n",
    "REC99.dropna(axis=1, how=\"all\",inplace= True)"
   ]
  },
  {
   "cell_type": "code",
   "execution_count": 50,
   "metadata": {},
   "outputs": [
    {
     "name": "stderr",
     "output_type": "stream",
     "text": [
      "C:\\Users\\seiff\\AppData\\Local\\Temp\\ipykernel_11120\\4284186976.py:1: SettingWithCopyWarning: \n",
      "A value is trying to be set on a copy of a slice from a DataFrame\n",
      "\n",
      "See the caveats in the documentation: https://pandas.pydata.org/pandas-docs/stable/user_guide/indexing.html#returning-a-view-versus-a-copy\n",
      "  REC10.rename(columns={'Colun0': 'tipoRegistro', 'Colun1': 'codReceita','Colun2': 'codOrgao','Colun3': 'eDeducaoDeReceita',\n",
      "C:\\Users\\seiff\\AppData\\Local\\Temp\\ipykernel_11120\\4284186976.py:5: SettingWithCopyWarning: \n",
      "A value is trying to be set on a copy of a slice from a DataFrame\n",
      "\n",
      "See the caveats in the documentation: https://pandas.pydata.org/pandas-docs/stable/user_guide/indexing.html#returning-a-view-versus-a-copy\n",
      "  REC11.rename(columns={'Colun0': 'tipoRegistro', 'Colun1': 'codReceita','Colun2': 'codFontRecursos','Colun3': 'codCO',\n",
      "C:\\Users\\seiff\\AppData\\Local\\Temp\\ipykernel_11120\\4284186976.py:10: SettingWithCopyWarning: \n",
      "A value is trying to be set on a copy of a slice from a DataFrame\n",
      "\n",
      "See the caveats in the documentation: https://pandas.pydata.org/pandas-docs/stable/user_guide/indexing.html#returning-a-view-versus-a-copy\n",
      "  REC99.rename(columns={'Colun0': 'tipoRegistro' },inplace= True)\n"
     ]
    }
   ],
   "source": [
    "REC10.rename(columns={'Colun0': 'tipoRegistro', 'Colun1': 'codReceita','Colun2': 'codOrgao','Colun3': 'eDeducaoDeReceita',\n",
    "                      'Colun4': 'tipoDocumento','Colun5': 'naturezaReceita','Colun6': 'vlArrecadado'\n",
    "                     },inplace= True)\n",
    "\n",
    "REC11.rename(columns={'Colun0': 'tipoRegistro', 'Colun1': 'codReceita','Colun2': 'codFontRecursos','Colun3': 'codCO',\n",
    "                      'Colun4': 'tipoDocumento','Colun5': 'nroDocumento','Colun6': 'nroConvenio','Colun7': 'dataAssinatura',\n",
    "                      'Colun8': 'nroContratoOP','Colun9': 'dataAssinaturaContratoOP','Colun10': 'vlArrecadadoFonte'\n",
    "                      },inplace= True)\n",
    "\n",
    "REC99.rename(columns={'Colun0': 'tipoRegistro' },inplace= True)"
   ]
  },
  {
   "cell_type": "code",
   "execution_count": 51,
   "metadata": {},
   "outputs": [
    {
     "name": "stderr",
     "output_type": "stream",
     "text": [
      "<string>:3: SyntaxWarning: invalid escape sequence '\\{'\n",
      "<>:3: SyntaxWarning: invalid escape sequence '\\{'\n",
      "<string>:3: SyntaxWarning: invalid escape sequence '\\{'\n",
      "<>:3: SyntaxWarning: invalid escape sequence '\\{'\n",
      "C:\\Users\\seiff\\AppData\\Local\\Temp\\ipykernel_11120\\1625397244.py:3: SyntaxWarning: invalid escape sequence '\\{'\n",
      "  unir.to_excel(f\"{s_unir}\\{nameSalvar}_unificado.xlsx\", index=False)\n"
     ]
    }
   ],
   "source": [
    "unir = pd.concat([REC10,REC11,REC99])\n",
    "s_unir = r'G:\\Meu Drive\\Bases Dash Câmara BI\\Bases Unidas'\n",
    "unir.to_excel(f\"{s_unir}\\{nameSalvar}_unificado.xlsx\", index=False)"
   ]
  },
  {
   "cell_type": "code",
   "execution_count": 52,
   "metadata": {},
   "outputs": [],
   "source": [
    "# Caminho para os arquivos CSV do ARC\n",
    "caminho_diretorio = r'G:\\Meu Drive\\Bases Dash Câmara BI\\Base Original ARC'\n",
    "retornoDaFunc = unificandoDf(caminho_diretorio)\n",
    "base = retornoDaFunc[0]\n",
    "nameSalvar = retornoDaFunc[1]"
   ]
  },
  {
   "cell_type": "code",
   "execution_count": 53,
   "metadata": {},
   "outputs": [
    {
     "name": "stderr",
     "output_type": "stream",
     "text": [
      "C:\\Users\\seiff\\AppData\\Local\\Temp\\ipykernel_11120\\3510059955.py:9: SettingWithCopyWarning: \n",
      "A value is trying to be set on a copy of a slice from a DataFrame\n",
      "\n",
      "See the caveats in the documentation: https://pandas.pydata.org/pandas-docs/stable/user_guide/indexing.html#returning-a-view-versus-a-copy\n",
      "  ARC10.dropna(axis=1, how=\"all\",inplace= True)\n",
      "C:\\Users\\seiff\\AppData\\Local\\Temp\\ipykernel_11120\\3510059955.py:10: SettingWithCopyWarning: \n",
      "A value is trying to be set on a copy of a slice from a DataFrame\n",
      "\n",
      "See the caveats in the documentation: https://pandas.pydata.org/pandas-docs/stable/user_guide/indexing.html#returning-a-view-versus-a-copy\n",
      "  ARC11.dropna(axis=1, how=\"all\",inplace= True)\n",
      "C:\\Users\\seiff\\AppData\\Local\\Temp\\ipykernel_11120\\3510059955.py:11: SettingWithCopyWarning: \n",
      "A value is trying to be set on a copy of a slice from a DataFrame\n",
      "\n",
      "See the caveats in the documentation: https://pandas.pydata.org/pandas-docs/stable/user_guide/indexing.html#returning-a-view-versus-a-copy\n",
      "  ARC12.dropna(axis=1, how=\"all\",inplace= True)\n",
      "C:\\Users\\seiff\\AppData\\Local\\Temp\\ipykernel_11120\\3510059955.py:12: SettingWithCopyWarning: \n",
      "A value is trying to be set on a copy of a slice from a DataFrame\n",
      "\n",
      "See the caveats in the documentation: https://pandas.pydata.org/pandas-docs/stable/user_guide/indexing.html#returning-a-view-versus-a-copy\n",
      "  ARC20.dropna(axis=1, how=\"all\",inplace= True)\n",
      "C:\\Users\\seiff\\AppData\\Local\\Temp\\ipykernel_11120\\3510059955.py:13: SettingWithCopyWarning: \n",
      "A value is trying to be set on a copy of a slice from a DataFrame\n",
      "\n",
      "See the caveats in the documentation: https://pandas.pydata.org/pandas-docs/stable/user_guide/indexing.html#returning-a-view-versus-a-copy\n",
      "  ARC21.dropna(axis=1, how=\"all\",inplace= True)\n"
     ]
    }
   ],
   "source": [
    "#separando por categoria\n",
    "ARC10 = base.loc[base['Colun0'] == 10]\n",
    "ARC11 = base.loc[base['Colun0'] == 11]\n",
    "ARC12 = base.loc[base['Colun0'] == 12]\n",
    "ARC20 = base.loc[base['Colun0'] == 20]\n",
    "ARC21 = base.loc[base['Colun0'] == 21]\n",
    "ARC99 = base.loc[base['Colun0'] == 99]\n",
    "\n",
    "ARC10.dropna(axis=1, how=\"all\",inplace= True)\n",
    "ARC11.dropna(axis=1, how=\"all\",inplace= True)\n",
    "ARC12.dropna(axis=1, how=\"all\",inplace= True)\n",
    "ARC20.dropna(axis=1, how=\"all\",inplace= True)\n",
    "ARC21.dropna(axis=1, how=\"all\",inplace= True)\n",
    "ARC99.dropna(axis=1, how=\"all\",inplace= True)"
   ]
  },
  {
   "cell_type": "code",
   "execution_count": 54,
   "metadata": {},
   "outputs": [
    {
     "name": "stderr",
     "output_type": "stream",
     "text": [
      "C:\\Users\\seiff\\AppData\\Local\\Temp\\ipykernel_11120\\3733705585.py:1: SettingWithCopyWarning: \n",
      "A value is trying to be set on a copy of a slice from a DataFrame\n",
      "\n",
      "See the caveats in the documentation: https://pandas.pydata.org/pandas-docs/stable/user_guide/indexing.html#returning-a-view-versus-a-copy\n",
      "  ARC10.rename(columns={'Colun0': 'tipoRegistro', 'Colun1': 'codCorrecao','Colun2': 'codOrgao','Colun3': 'eDeducaoDeReceita',\n",
      "C:\\Users\\seiff\\AppData\\Local\\Temp\\ipykernel_11120\\3733705585.py:6: SettingWithCopyWarning: \n",
      "A value is trying to be set on a copy of a slice from a DataFrame\n",
      "\n",
      "See the caveats in the documentation: https://pandas.pydata.org/pandas-docs/stable/user_guide/indexing.html#returning-a-view-versus-a-copy\n",
      "  ARC11.rename(columns={'Colun0': 'tipoRegistro', 'Colun1': 'codCorrecao','Colun2': 'codFonteReduzida','Colun3': 'codCO',\n",
      "C:\\Users\\seiff\\AppData\\Local\\Temp\\ipykernel_11120\\3733705585.py:11: SettingWithCopyWarning: \n",
      "A value is trying to be set on a copy of a slice from a DataFrame\n",
      "\n",
      "See the caveats in the documentation: https://pandas.pydata.org/pandas-docs/stable/user_guide/indexing.html#returning-a-view-versus-a-copy\n",
      "  ARC12.rename(columns={'Colun0': 'tipoRegistro', 'Colun1': 'codCorrecao','Colun2': 'codFonteAcrescida','Colun3': 'codCO',\n",
      "C:\\Users\\seiff\\AppData\\Local\\Temp\\ipykernel_11120\\3733705585.py:16: SettingWithCopyWarning: \n",
      "A value is trying to be set on a copy of a slice from a DataFrame\n",
      "\n",
      "See the caveats in the documentation: https://pandas.pydata.org/pandas-docs/stable/user_guide/indexing.html#returning-a-view-versus-a-copy\n",
      "  ARC20.rename(columns={'Colun0': 'tipoRegistro', 'Colun1': 'codOrgao','Colun2': 'codEstorno','Colun3': 'eDeducaoDeReceita',\n",
      "C:\\Users\\seiff\\AppData\\Local\\Temp\\ipykernel_11120\\3733705585.py:20: SettingWithCopyWarning: \n",
      "A value is trying to be set on a copy of a slice from a DataFrame\n",
      "\n",
      "See the caveats in the documentation: https://pandas.pydata.org/pandas-docs/stable/user_guide/indexing.html#returning-a-view-versus-a-copy\n",
      "  ARC21.rename(columns={'Colun0': 'tipoRegistro', 'Colun1': 'codEstorno','Colun2': 'codFonteEstornada','Colun3': 'codCO',\n"
     ]
    }
   ],
   "source": [
    "ARC10.rename(columns={'Colun0': 'tipoRegistro', 'Colun1': 'codCorrecao','Colun2': 'codOrgao','Colun3': 'eDeducaoDeReceita',\n",
    "                      'Colun4': 'identificadorDeducaoRecReduzida','Colun5': 'naturezaReceitaReduzida','Colun6': 'identificadorDeducaoRecAcrescida',\n",
    "                      'Colun7': 'naturezaReceitaAcrescida','Colun8': 'vlReduzidoAcrescido'\n",
    "                     },inplace= True)\n",
    "\n",
    "ARC11.rename(columns={'Colun0': 'tipoRegistro', 'Colun1': 'codCorrecao','Colun2': 'codFonteReduzida','Colun3': 'codCO',\n",
    "                      'Colun4': 'tipoDocumento','Colun5': 'nroDocumento','Colun6': 'nroConvenio',\n",
    "                      'Colun7': 'dataAssinatura','Colun8': 'nroContratoOP','Colun9': 'dataAssinaturaContratoOP','Colun10': 'vlReduzidoFonte'\n",
    "                     },inplace= True)\n",
    "\n",
    "ARC12.rename(columns={'Colun0': 'tipoRegistro', 'Colun1': 'codCorrecao','Colun2': 'codFonteAcrescida','Colun3': 'codCO',\n",
    "                      'Colun4': 'tipoDocumento','Colun5': 'nroDocumento','Colun6': 'nroConvenio','Colun7': 'dataAssinatura',\n",
    "                      'Colun8': 'nroContratoOP','Colun9': 'dataAssinaturaContratoOP','Colun10': 'vlAcrescidoFonte'\n",
    "                     },inplace= True)\n",
    "\n",
    "ARC20.rename(columns={'Colun0': 'tipoRegistro', 'Colun1': 'codOrgao','Colun2': 'codEstorno','Colun3': 'eDeducaoDeReceita',\n",
    "                      'Colun4': 'identificadorDeducao','Colun5': 'naturezaReceitaEstornada','Colun6': 'vlEstornado',\n",
    "                     },inplace= True)\n",
    "\n",
    "ARC21.rename(columns={'Colun0': 'tipoRegistro', 'Colun1': 'codEstorno','Colun2': 'codFonteEstornada','Colun3': 'codCO',\n",
    "                      'Colun4': 'tipoDocumento','Colun5': 'nroDocumento','Colun6': 'nroConvenio','Colun7': 'dataAssinatura',\n",
    "                      'Colun8': 'nroContratoOP','Colun9': 'dataAssinaturaContratoOP','Colun10': 'vlEstornadoFonte'\n",
    "                     },inplace= True)\n",
    "\n",
    "ARC99.rename(columns={'Colun0': 'tipoRegistro'},inplace= True)\n"
   ]
  },
  {
   "cell_type": "code",
   "execution_count": 55,
   "metadata": {},
   "outputs": [
    {
     "name": "stderr",
     "output_type": "stream",
     "text": [
      "<string>:3: SyntaxWarning: invalid escape sequence '\\{'\n",
      "<>:3: SyntaxWarning: invalid escape sequence '\\{'\n",
      "<string>:3: SyntaxWarning: invalid escape sequence '\\{'\n",
      "<>:3: SyntaxWarning: invalid escape sequence '\\{'\n",
      "C:\\Users\\seiff\\AppData\\Local\\Temp\\ipykernel_11120\\3225604045.py:3: SyntaxWarning: invalid escape sequence '\\{'\n",
      "  unir.to_excel(f\"{s_unir}\\{nameSalvar}_unificado.xlsx\", index=False)\n"
     ]
    }
   ],
   "source": [
    "unir = pd.concat([ARC10,ARC11,ARC12,ARC20,ARC21,ARC99])\n",
    "s_unir = r'G:\\Meu Drive\\Bases Dash Câmara BI\\Bases Unidas'\n",
    "unir.to_excel(f\"{s_unir}\\{nameSalvar}_unificado.xlsx\", index=False)"
   ]
  }
 ],
 "metadata": {
  "kernelspec": {
   "display_name": "Python 3",
   "language": "python",
   "name": "python3"
  },
  "language_info": {
   "codemirror_mode": {
    "name": "ipython",
    "version": 3
   },
   "file_extension": ".py",
   "mimetype": "text/x-python",
   "name": "python",
   "nbconvert_exporter": "python",
   "pygments_lexer": "ipython3",
   "version": "3.12.0"
  }
 },
 "nbformat": 4,
 "nbformat_minor": 2
}
