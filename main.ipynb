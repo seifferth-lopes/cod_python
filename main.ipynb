{
 "cells": [
  {
   "cell_type": "code",
   "execution_count": null,
   "metadata": {},
   "outputs": [],
   "source": [
    "import pandas as pd\n",
    "import os"
   ]
  },
  {
   "cell_type": "code",
   "execution_count": null,
   "metadata": {},
   "outputs": [],
   "source": [
    "def unificandoDf(diretorio):\n",
    "    # Lista de nomes de colunas\n",
    "    nomes_colunas = ['Colun' + str(i) for i in range(50)]\n",
    "\n",
    "    # Inicializa um DataFrame vazio para armazenar os base\n",
    "    base = pd.DataFrame(columns=nomes_colunas + ['Origem_Arquivo'])\n",
    "\n",
    "    # Lista para armazenar os nomes dos arquivos\n",
    "    nomes_arquivos = []\n",
    "    # Loop pelos arquivos no diretório\n",
    "    for arquivo in os.listdir(diretorio):\n",
    "        if arquivo.endswith('.csv'):\n",
    "            caminho_arquivo = os.path.join(diretorio, arquivo)\n",
    "            # Abre o arquivo CSV usando \";\" como delimitador\n",
    "            base_arquivo = pd.read_csv(caminho_arquivo, delimiter=';', names=nomes_colunas, encoding= 'latin-1')\n",
    "            # Adiciona uma coluna 'Origem_Arquivo' com o nome do arquivo ao DataFrame\n",
    "            base_arquivo['Origem_Arquivo'] = arquivo\n",
    "            # Adiciona os base do arquivo ao DataFrame principal\n",
    "            base = pd.concat([base, base_arquivo], ignore_index=True)\n",
    "\n",
    "    base.dropna(axis=1, how=\"all\", inplace= True)\n",
    "    txt = arquivo.split(\"_\")\n",
    "    saida = txt[0]\n",
    "    return base, saida"
   ]
  },
  {
   "cell_type": "code",
   "execution_count": null,
   "metadata": {},
   "outputs": [],
   "source": [
    "# Caminho para os arquivos CSV do Balancete\n",
    "caminho_diretorio = r'G:\\Meu Drive\\Bases Dash Câmara BI\\Base Original Balancete'\n",
    "retornoDaFunc = unificandoDf(caminho_diretorio)\n",
    "base = retornoDaFunc[0]\n",
    "nameSalvar = retornoDaFunc[1]"
   ]
  },
  {
   "cell_type": "code",
   "execution_count": null,
   "metadata": {},
   "outputs": [],
   "source": [
    "#separando por categoria\n",
    "v10 = base.loc[base['Colun0'] == 10]\n",
    "v11 = base.loc[base['Colun0'] == 11]\n",
    "v14 = base.loc[base['Colun0'] == 14]\n",
    "v15 = base.loc[base['Colun0'] == 15]\n",
    "v16 = base.loc[base['Colun0'] == 16]\n",
    "v17 = base.loc[base['Colun0'] == 17]\n",
    "v18 = base.loc[base['Colun0'] == 18]\n",
    "v24 = base.loc[base['Colun0'] == 24]\n",
    "v30 = base.loc[base['Colun0'] == 30]\n"
   ]
  },
  {
   "cell_type": "code",
   "execution_count": null,
   "metadata": {},
   "outputs": [],
   "source": [
    "#Renomeando Colunas\n",
    "v10.rename(columns={'Colun0': 'tipoRegistro', 'Colun1': 'contaContabil', 'Colun2': 'codFundo',\n",
    "                    'Colun3': 'saldoInicial', 'Colun4': 'naturezaSaldoInicial', 'Colun5': 'totalDebitos',\n",
    "                    'Colun6': 'totalCreditos', 'Colun7': 'saldoFinal', 'Colun8': 'naturezaSaldoFinal'\n",
    "                    },inplace= True)\n",
    "\n",
    "v11.rename(columns={'Colun0': 'tipoRegistro', 'Colun1': 'contaContabil', 'Colun2': 'codFundo','Colun3': 'codOrgao', 'Colun4': 'codUnidadeSub', \n",
    "                    'Colun5': 'codFuncao','Colun6': 'codSubFuncao', 'Colun7': 'codPrograma', 'Colun8': 'idAcao', 'Colun9': 'idSubAcao',\n",
    "                    'Colun10': 'naturezaDespesa', 'Colun11': 'codFontRecursos', 'Colun12': 'saldoInicialCD','Colun13': 'naturezaSaldoInicialCD',\n",
    "                    'Colun14': 'totalDebitosCD','Colun15': 'totalCreditosCD','Colun16': 'saldoFinalCD', 'Colun17': 'naturezaSaldoFinalCD',\n",
    "                   },inplace= True)\n",
    "\n",
    "v14.rename(columns={'Colun0': 'tipoRegistro', 'Colun1': 'contaContabil', 'Colun2': 'codFundo','Colun3': 'codOrgao', 'Colun4': 'codUnidadeSub', \n",
    "                    'Colun5': 'codUnidadeSubOrig','Colun6': 'codFuncao', 'Colun7': 'codSubFuncao', 'Colun8': 'codPrograma', 'Colun9': 'idAcao',\n",
    "                    'Colun10': 'idSubAcao', 'Colun11': 'naturezaDespesa', 'Colun12': 'subElemento','Colun13': 'codFontRecursos',\n",
    "                    'Colun14': 'codCO','Colun15': 'nroEmpenho','Colun16': 'anoInscricao', 'Colun17': 'saldoInicialRSP',\n",
    "                    'Colun18': 'naturezaSaldoInicialRSP','Colun19': 'totalDebitosRSP','Colun20': 'totalCreditosRSP','Colun21': 'saldoFinalRSP', 'Colun22': 'naturezaSaldoFinalRSP'\n",
    "                   },inplace= True)\n",
    "\n",
    "v15.rename(columns={'Colun0': 'tipoRegistro', 'Colun1': 'contaContabil', 'Colun2': 'codFundo','Colun3': 'atributoSF', 'Colun4': 'saldoInicialSF', \n",
    "                    'Colun5': 'naturezaSaldoInicialSF','Colun6': 'totalDebitosSF', 'Colun7': 'totalCreditosSF', 'Colun8': 'saldoFinalSF', 'Colun9': 'naturezaSaldoFinalSF',\n",
    "                    },inplace= True)\n",
    "\n",
    "v16.rename(columns={'Colun0': 'tipoRegistro', 'Colun1': 'contaContabil', 'Colun2': 'codFundo','Colun3': 'atributoSF', 'Colun4': 'codFontRecursos', \n",
    "                    'Colun5': 'codCO','Colun6': 'saldoInicialFontSF', 'Colun7': 'naturezaSaldoInicialFontSF', 'Colun8': 'totalDebitosFontSF',\n",
    "                    'Colun9': 'totalCreditosFontSF','Colun10': 'saldoFinalFontSF','Colun11': 'naturezaSaldoFinalFontSF'\n",
    "                    },inplace= True)\n",
    "\n",
    "v17.rename(columns={'Colun0': 'tipoRegistro', 'Colun1': 'contaContabil', 'Colun2': 'codFundo','Colun3': 'atributoSF', 'Colun4': 'codCTB', \n",
    "                    'Colun5': 'codFontRecursos','Colun6': 'codCO', 'Colun7': 'saldoInicialCTB', 'Colun8': 'naturezaSaldoInicialCTB',\n",
    "                    'Colun9': 'totalDebitosCTB','Colun10': 'totalCreditosCTB','Colun11': 'saldoFinalCTB','Colun12': 'naturezaSaldoFinalCTB'\n",
    "                    },inplace= True)\n",
    "\n",
    "v18.rename(columns={'Colun0': 'tipoRegistro', 'Colun1': 'contaContabil', 'Colun2': 'codFundo',\n",
    "                    'Colun3': 'codFontRecursos', 'Colun4': 'saldoInicialFR','Colun5': 'naturezaSaldoInicialFR','Colun6': 'totalDebitosFR', \n",
    "                    'Colun7': 'totalCreditosFR', 'Colun8': 'saldoFinalFR','Colun9': 'naturezaSaldoFinalFR'\n",
    "                    },inplace= True)\n",
    "\n",
    "v24.rename(columns={'Colun0': 'tipoRegistro', 'Colun1': 'contaContabil', 'Colun2': 'codFundo',\n",
    "                    'Colun3': 'codOrgao', 'Colun4': 'codUnidadeSub','Colun5': 'saldoInicialOrgao','Colun6': 'naturezaSaldoInicialOrgao', \n",
    "                    'Colun7': 'totalDebitosOrgao', 'Colun8': 'totalCreditosOrgao','Colun9': 'saldoFinalOrgao','Colun10': 'naturezaSaldoFinalOrgao'\n",
    "                    },inplace= True)\n",
    "\n",
    "v30.rename(columns={'Colun0': 'tipoRegistro', 'Colun1': 'contaContabil', 'Colun2': 'codFundo','Colun3': 'codOrgao', 'Colun4': 'codUnidadeSub', \n",
    "                    'Colun5': 'codFuncao','Colun6': 'codSubFuncao', 'Colun7': 'codPrograma', 'Colun8': 'idAcao', 'Colun9': 'idSubAcao',\n",
    "                    'Colun10': 'naturezaDespesa', 'Colun11': 'subElemento', 'Colun12': 'codFontRecursos','Colun13': 'codCO',\n",
    "                    'Colun14': 'saldoInicialCDE','Colun15': 'naturezaSaldoInicialCDE','Colun16': 'totalDebitosCDE', \n",
    "                    'Colun17': 'totalCreditosCDE','Colun18': 'saldoFinalCDE','Colun19': 'naturezaSaldoFinalCDE'\n",
    "                    },inplace= True)"
   ]
  },
  {
   "cell_type": "code",
   "execution_count": null,
   "metadata": {},
   "outputs": [],
   "source": [
    "unir = pd.concat([v10,v11,v14,v15,v16,v17,v18,v24,v30])\n",
    "s_unir = r'G:\\Meu Drive\\Bases Dash Câmara BI\\Bases Unidas'\n",
    "unir.to_excel(f\"{s_unir}\\{nameSalvar}_unificado.xlsx\", index=False)"
   ]
  },
  {
   "cell_type": "code",
   "execution_count": null,
   "metadata": {},
   "outputs": [],
   "source": [
    "# Caminho para os arquivos CSV do ANL\n",
    "caminho_diretorio = r'G:\\Meu Drive\\Bases Dash Câmara BI\\Base Original EMP'\n",
    "retornoDaFunc = unificandoDf(caminho_diretorio)\n",
    "base = retornoDaFunc[0]\n",
    "nameSalvar = retornoDaFunc[1]"
   ]
  },
  {
   "cell_type": "code",
   "execution_count": null,
   "metadata": {},
   "outputs": [],
   "source": [
    "#separando por categoria\n",
    "EMP10 = base.loc[base['Colun0'] == 10]\n",
    "EMP11 = base.loc[base['Colun0'] == 11]\n",
    "EMP12 = base.loc[base['Colun0'] == 12]\n",
    "EMP20 = base.loc[base['Colun0'] == 20]\n",
    "\n",
    "EMP11.dropna(axis=1, how=\"all\",inplace= True)\n",
    "EMP12.dropna(axis=1, how=\"all\",inplace= True)\n",
    "EMP20.dropna(axis=1, how=\"all\",inplace= True)"
   ]
  },
  {
   "cell_type": "code",
   "execution_count": null,
   "metadata": {},
   "outputs": [],
   "source": [
    "EMP10.rename(columns={'Colun0': 'tipoRegistro', 'Colun1': 'codOrgao', 'Colun2': 'codUnidadeSub','Colun3': 'codFuncao', 'Colun4': 'codSubFuncao', \n",
    "                    'Colun5': 'codPrograma','Colun6': 'idAcao', 'Colun7': 'idSubAcao', 'Colun8': 'naturezaDespesa', 'Colun9': 'subElemento',\n",
    "                    'Colun10': 'nroEmpenho', 'Colun11': 'dtEmpenho', 'Colun12': 'modalidadeEmpenho','Colun13': 'tpEmpenho',\n",
    "                    'Colun14': 'vlBruto','Colun15': 'especificacaoEmpenho','Colun16': 'despDecContrato', 'Colun17': 'codOrgaoRespContrato',\n",
    "                    'Colun18': 'codUnidadeSubRespContrato','Colun19': 'nroContrato','Colun20': 'dataAssinaturaContrato','Colun21': 'nroSequencialTermoAditivo', \n",
    "                    'Colun22': 'despDecConvenio','Colun23': 'nroConvenio','Colun24': 'dataAssinaturaConvenio', 'Colun25': 'despDecConvenioConge',\n",
    "                    'Colun26': 'nroConvenioConge','Colun27': 'dataAssinaturaConge','Colun28': 'despDecLicitacao', 'Colun29': 'codOrgaoRespLicit',\n",
    "                    'Colun30': 'codUnidadeSubRespLicit','Colun31': 'nroProcessoLicitatorio','Colun32': 'exercicioProcessoLicitatorio', 'Colun33': 'tipoProcesso','Colun34': 'cpfOrdenador'\n",
    "                   },inplace= True)\n",
    "\n",
    "EMP11.rename(columns={'Colun0': 'tipoRegistro', 'Colun1': 'codUnidadeSub', 'Colun2': 'nroEmpenho','Colun3': 'codFontRecursos', 'Colun4': 'codCO', 'Colun5': 'valorFonte'},inplace= True)\n",
    "\n",
    "EMP12.rename(columns={'Colun0': 'tipoRegistro', 'Colun1': 'codUnidadeSub', 'Colun2': 'nroEmpenho','Colun3': 'tipoDocumento', 'Colun4': 'nroDocumento'},inplace= True)\n",
    "\n",
    "EMP20.rename(columns={'Colun0': 'tipoRegistro', 'Colun1': 'codOrgao', 'Colun2': 'codUnidadeSub','Colun3': 'nroEmpenho', 'Colun4': 'dtEmpenho', \n",
    "                      'Colun5': 'nroReforco','Colun6': 'dtReforco', 'Colun7': 'codFontRecursos', 'Colun8': 'codCO', 'Colun9': 'vlReforco'\n",
    "                   },inplace= True)"
   ]
  },
  {
   "cell_type": "code",
   "execution_count": null,
   "metadata": {},
   "outputs": [],
   "source": [
    "unir = pd.concat([EMP10,EMP11,EMP12,EMP20])\n",
    "s_unir = r'G:\\Meu Drive\\Bases Dash Câmara BI\\Bases Unidas'\n",
    "unir.to_excel(f\"{s_unir}\\{nameSalvar}_unificado.xlsx\", index=False)"
   ]
  },
  {
   "cell_type": "code",
   "execution_count": null,
   "metadata": {},
   "outputs": [],
   "source": [
    "# Caminho para os arquivos CSV do ALN\n",
    "caminho_diretorio = r'G:\\Meu Drive\\Bases Dash Câmara BI\\Base Original ANL'\n",
    "retornoDaFunc = unificandoDf(caminho_diretorio)\n",
    "base = retornoDaFunc[0]\n",
    "nameSalvar = retornoDaFunc[1]"
   ]
  },
  {
   "cell_type": "code",
   "execution_count": null,
   "metadata": {},
   "outputs": [],
   "source": [
    "#separando por categoria\n",
    "ANL10 = base.loc[base['Colun0'] == 10]\n",
    "ANL11 = base.loc[base['Colun0'] == 11]\n",
    "ANL99 = base.loc[base['Colun0'] == 99]\n",
    "\n",
    "ANL10.dropna(axis=1, how=\"all\",inplace= True)\n",
    "ANL11.dropna(axis=1, how=\"all\",inplace= True)\n",
    "ANL99.dropna(axis=1, how=\"all\",inplace= True)"
   ]
  },
  {
   "cell_type": "code",
   "execution_count": null,
   "metadata": {},
   "outputs": [],
   "source": [
    "#Renomeando colunas\n",
    "\n",
    "ANL10.rename(columns={'Colun0': 'tipoRegistro', 'Colun1': 'codOrgao', 'Colun2': 'codUnidadeSub','Colun3': 'nroEmpenho', 'Colun4': 'dtEmpenho', \n",
    "                    'Colun5': 'dtAnulacao','Colun6': 'nroAnulacao', 'Colun7': 'tipoAnulacao', 'Colun8': 'especAnulacaoEmpenho', 'Colun9': 'vlAnulacao'\n",
    "                     },inplace= True)\n",
    "\n",
    "ANL11.rename(columns={'Colun0': 'tipoRegistro', 'Colun1': 'codUnidadeSub', 'Colun2': 'nroEmpenho','Colun3': 'nroAnulacao', 'Colun4': 'codFontRecursos',\n",
    "                      'Colun5': 'codCO','Colun6': 'vlAnulacaoFonte'\n",
    "                     },inplace= True)\n",
    "ANL99.rename(columns={'Colun0': 'tipoRegistro'},inplace= True)"
   ]
  },
  {
   "cell_type": "code",
   "execution_count": null,
   "metadata": {},
   "outputs": [],
   "source": [
    "unir = pd.concat([ANL10,ANL11,ANL99])\n",
    "s_unir = r'G:\\Meu Drive\\Bases Dash Câmara BI\\Bases Unidas'\n",
    "unir.to_excel(f\"{s_unir}\\{nameSalvar}_unificado.xlsx\", index=False)"
   ]
  },
  {
   "cell_type": "code",
   "execution_count": null,
   "metadata": {},
   "outputs": [],
   "source": [
    "# Caminho para os arquivos CSV do CTB\n",
    "caminho_diretorio = r'G:\\Meu Drive\\Bases Dash Câmara BI\\Base Original CTB'\n",
    "retornoDaFunc = unificandoDf(caminho_diretorio)\n",
    "base = retornoDaFunc[0]\n",
    "nameSalvar = retornoDaFunc[1]"
   ]
  },
  {
   "cell_type": "code",
   "execution_count": null,
   "metadata": {},
   "outputs": [],
   "source": [
    "#separando por categoria\n",
    "CTB10 = base.loc[base['Colun0'] == 10]\n",
    "CTB20 = base.loc[base['Colun0'] == 20]\n",
    "CTB21 = base.loc[base['Colun0'] == 21]\n",
    "CTB22 = base.loc[base['Colun0'] == 22]\n",
    "CTB50 = base.loc[base['Colun0'] == 50]\n",
    "CTB99 = base.loc[base['Colun0'] == 99]\n",
    "\n",
    "CTB10.dropna(axis=1, how=\"all\",inplace= True)\n",
    "CTB20.dropna(axis=1, how=\"all\",inplace= True)\n",
    "CTB21.dropna(axis=1, how=\"all\",inplace= True)\n",
    "CTB22.dropna(axis=1, how=\"all\",inplace= True)\n",
    "CTB50.dropna(axis=1, how=\"all\",inplace= True)\n",
    "CTB99.dropna(axis=1, how=\"all\",inplace= True)\n",
    "\n"
   ]
  },
  {
   "cell_type": "code",
   "execution_count": null,
   "metadata": {},
   "outputs": [],
   "source": [
    "#Renomeando colunas\n",
    "\n",
    "CTB10.rename(columns={'Colun0': 'tipoRegistro', 'Colun1': 'codCTB', 'Colun2': 'codOrgao','Colun3': 'banco', 'Colun4': 'agencia', \n",
    "                    'Colun5': 'digitoVerificadorAgencia','Colun6': 'contaBancaria', 'Colun7': 'digitoVerificadorContaBancaria', \n",
    "                    'Colun8': 'tipoConta', 'Colun9': 'nroSeqAplicacao','Colun10': 'descContaBancaria', 'Colun11': 'contaConvenio', \n",
    "                    'Colun12': 'nroConvenio', 'Colun13': 'dataAssinaturaConvenio'\n",
    "                     },inplace= True)\n",
    "\n",
    "CTB20.rename(columns={'Colun0': 'tipoRegistro', 'Colun1': 'codOrgao', 'Colun2': 'codCTB','Colun3': 'codFontRecursos', 'Colun4': 'saldoCEC', \n",
    "                      'Colun5': 'vlSaldoInicialFonte', 'Colun6': 'vlSaldoFinalFonte'\n",
    "                     },inplace= True)\n",
    "\n",
    "CTB21.rename(columns={'Colun0': 'tipoRegistro', 'Colun1': 'codCTB', 'Colun2': 'codFontRecursos','Colun3': 'codReduzidoMOV', 'Colun4': 'tipoMovimentacao', \n",
    "                    'Colun5': 'tipoEntrSaida','Colun6': 'dscOutrasMov', 'Colun7': 'saldoCEC','Colun8': 'valorEntrSaida', 'Colun9': 'codCTBTransf',\n",
    "                    'Colun10': 'codFonteCTBTransf', 'Colun11': 'saldoCECTransf','Colun12': 'codIdentificaFR'\n",
    "                     },inplace= True)\n",
    "\n",
    "CTB22.rename(columns={'Colun0': 'tipoRegistro', 'Colun1': 'codReduzidoMOV', 'Colun2': 'eDeducaoDeReceita','Colun3': 'identificadorDeducao', 'Colun4': 'naturezaReceita', \n",
    "                    'Colun5': 'codFontRecursos','Colun6': 'codCO', 'Colun7': 'saldoCEC','Colun8': 'vlrReceitaCont'\n",
    "                     },inplace= True)\n",
    "\n",
    "CTB50.rename(columns={'Colun0': 'tipoRegistro', 'Colun1': 'codOrgao', 'Colun2': 'codCTB','Colun3': 'situacaoConta', 'Colun4': 'dataSituacao'\n",
    "                     },inplace= True)\n",
    "\n",
    "CTB99.rename(columns={'Colun0': 'tipoRegistro' },inplace= True)\n"
   ]
  },
  {
   "cell_type": "code",
   "execution_count": null,
   "metadata": {},
   "outputs": [],
   "source": [
    "unir = pd.concat([CTB10,CTB20,CTB21,CTB22,CTB50,CTB99])\n",
    "s_unir = r'G:\\Meu Drive\\Bases Dash Câmara BI\\Bases Unidas'\n",
    "unir.to_excel(f\"{s_unir}\\{nameSalvar}_unificado.xlsx\", index=False)"
   ]
  },
  {
   "cell_type": "code",
   "execution_count": null,
   "metadata": {},
   "outputs": [],
   "source": [
    "# Caminho para os arquivos CSV do CAIXA\n",
    "caminho_diretorio = r'G:\\Meu Drive\\Bases Dash Câmara BI\\Base Original CAIXA'\n",
    "retornoDaFunc = unificandoDf(caminho_diretorio)\n",
    "base = retornoDaFunc[0]\n",
    "nameSalvar = retornoDaFunc[1]"
   ]
  },
  {
   "cell_type": "code",
   "execution_count": null,
   "metadata": {},
   "outputs": [],
   "source": [
    "#separando por categoria\n",
    "CX10 = base.loc[base['Colun0'] == 10]\n",
    "CX11 = base.loc[base['Colun0'] == 11]\n",
    "CX99 = base.loc[base['Colun0'] == 99]\n",
    "\n",
    "CX10.dropna(axis=1, how=\"all\",inplace= True)\n",
    "CX11.dropna(axis=1, how=\"all\",inplace= True)\n",
    "CX99.dropna(axis=1, how=\"all\",inplace= True)\n"
   ]
  },
  {
   "cell_type": "code",
   "execution_count": null,
   "metadata": {},
   "outputs": [],
   "source": [
    "CX10.rename(columns={'Colun0': 'tipoRegistro', 'Colun1': 'codOrgao', \n",
    "                     'Colun2': 'vlSaldoInicial','Colun3': 'vlSaldoFinal'\n",
    "                     },inplace= True)\n",
    "\n",
    "CX11.rename(columns={'Colun0': 'tipoRegistro', 'Colun1': 'codFonteCaixa', \n",
    "                     'Colun2': 'vlSaldoInicialFonte','Colun3': 'vlSaldoFinalFonte'\n",
    "                     },inplace= True)\n",
    "\n",
    "CX99.rename(columns={'Colun0': 'tipoRegistro'\n",
    "                     },inplace= True)"
   ]
  },
  {
   "cell_type": "code",
   "execution_count": null,
   "metadata": {},
   "outputs": [],
   "source": [
    "unir = pd.concat([CX10,CX11,CX99])\n",
    "s_unir = r'G:\\Meu Drive\\Bases Dash Câmara BI\\Bases Unidas'\n",
    "unir.to_excel(f\"{s_unir}\\{nameSalvar}_unificado.xlsx\", index=False)"
   ]
  },
  {
   "cell_type": "code",
   "execution_count": null,
   "metadata": {},
   "outputs": [],
   "source": [
    "# Caminho para os arquivos CSV do LQD\n",
    "caminho_diretorio = r'G:\\Meu Drive\\Bases Dash Câmara BI\\Base Original LQD'\n",
    "retornoDaFunc = unificandoDf(caminho_diretorio)\n",
    "base = retornoDaFunc[0]\n",
    "nameSalvar = retornoDaFunc[1]"
   ]
  },
  {
   "cell_type": "code",
   "execution_count": null,
   "metadata": {},
   "outputs": [],
   "source": [
    "#separando por categoria\n",
    "LQD10 = base.loc[base['Colun0'] == 10]\n",
    "LQD11 = base.loc[base['Colun0'] == 11]\n",
    "LQD99 = base.loc[base['Colun0'] == 99]\n",
    "\n",
    "LQD10.dropna(axis=1, how=\"all\",inplace= True)\n",
    "LQD11.dropna(axis=1, how=\"all\",inplace= True)\n",
    "LQD99.dropna(axis=1, how=\"all\",inplace= True)"
   ]
  },
  {
   "cell_type": "code",
   "execution_count": null,
   "metadata": {},
   "outputs": [],
   "source": [
    "LQD10.rename(columns={'Colun0': 'tipoRegistro', 'Colun1': 'codFonteCaixa','Colun2': 'vlSaldoInicialFonte','Colun3': 'codUnidadeSub',\n",
    "                      'Colun4': 'tpLiquidacao', 'Colun5': 'nroEmpenho','Colun6': 'dtEmpenho','Colun7': 'dtLiquidacao',\n",
    "                      'Colun8': 'nroLiquidacao', 'Colun9': 'vlLiquidado','Colun10': 'cpfLiquidante'\n",
    "                     },inplace= True)\n",
    "\n",
    "LQD11.rename(columns={'Colun0': 'tipoRegistro', 'Colun1': 'codReduzido','Colun2': 'codFontRecursos','Colun3': 'codCO',\n",
    "                      'Colun4': 'valorFonte'\n",
    "                     },inplace= True)\n",
    "\n",
    "LQD99.rename(columns={'Colun0': 'tipoRegistro'\n",
    "                     },inplace= True)"
   ]
  },
  {
   "cell_type": "code",
   "execution_count": null,
   "metadata": {},
   "outputs": [],
   "source": [
    "unir = pd.concat([LQD10,LQD11,LQD99])\n",
    "s_unir = r'G:\\Meu Drive\\Bases Dash Câmara BI\\Bases Unidas'\n",
    "unir.to_excel(f\"{s_unir}\\{nameSalvar}_unificado.xlsx\", index=False)"
   ]
  },
  {
   "cell_type": "code",
   "execution_count": null,
   "metadata": {},
   "outputs": [],
   "source": [
    "# Caminho para os arquivos CSV do ALQ\n",
    "caminho_diretorio = r'G:\\Meu Drive\\Bases Dash Câmara BI\\Base Original ALQ'\n",
    "retornoDaFunc = unificandoDf(caminho_diretorio)\n",
    "base = retornoDaFunc[0]\n",
    "nameSalvar = retornoDaFunc[1]"
   ]
  },
  {
   "cell_type": "code",
   "execution_count": null,
   "metadata": {},
   "outputs": [],
   "source": [
    "base.Colun0.unique()"
   ]
  },
  {
   "cell_type": "code",
   "execution_count": null,
   "metadata": {},
   "outputs": [],
   "source": [
    "#separando por categoria\n",
    "ALQ10 = base.loc[base['Colun0'] == 10]\n",
    "ALQ11 = base.loc[base['Colun0'] == 11]\n",
    "ALQ99 = base.loc[base['Colun0'] == 99]\n",
    "\n",
    "ALQ10.dropna(axis=1, how=\"all\",inplace= True)\n",
    "ALQ11.dropna(axis=1, how=\"all\",inplace= True)\n",
    "ALQ99.dropna(axis=1, how=\"all\",inplace= True)"
   ]
  },
  {
   "cell_type": "code",
   "execution_count": null,
   "metadata": {},
   "outputs": [],
   "source": [
    "ALQ10.rename(columns={'Colun0': 'tipoRegistro', 'Colun1': 'codReduzido','Colun2': 'codOrgao','Colun3': 'codUnidadeSub',\n",
    "                      'Colun4': 'nroEmpenho', 'Colun5': 'dtEmpenho','Colun6': 'dtLiquidacao','Colun7': 'nroLiquidacao','Colun8': 'dtAnulacaoLiq', \n",
    "                      'Colun9': 'nroLiquidacaoANL','Colun10': 'tpLiquidacao', 'Colun11': 'justificativaAnulacao','Colun12': 'vlAnulado'\n",
    "                     },inplace= True)\n",
    "\n",
    "ALQ11.rename(columns={'Colun0': 'tipoRegistro', 'Colun1': 'codReduzido','Colun2': 'codFontRecursos','Colun3': 'codCO',\n",
    "                      'Colun4': 'valorAnuladoFonte'\n",
    "                     },inplace= True)\n",
    "\n",
    "ALQ99.rename(columns={'Colun0': 'tipoRegistro'\n",
    "                     },inplace= True)"
   ]
  },
  {
   "cell_type": "code",
   "execution_count": null,
   "metadata": {},
   "outputs": [],
   "source": [
    "unir = pd.concat([ALQ10,ALQ11,ALQ99])\n",
    "s_unir = r'G:\\Meu Drive\\Bases Dash Câmara BI\\Bases Unidas'\n",
    "unir.to_excel(f\"{s_unir}\\{nameSalvar}_unificado.xlsx\", index=False)"
   ]
  },
  {
   "cell_type": "code",
   "execution_count": null,
   "metadata": {},
   "outputs": [],
   "source": [
    "# Caminho para os arquivos CSV do OPS\n",
    "caminho_diretorio = r'G:\\Meu Drive\\Bases Dash Câmara BI\\Base Original OPS'\n",
    "retornoDaFunc = unificandoDf(caminho_diretorio)\n",
    "base = retornoDaFunc[0]\n",
    "nameSalvar = retornoDaFunc[1]"
   ]
  },
  {
   "cell_type": "code",
   "execution_count": null,
   "metadata": {},
   "outputs": [],
   "source": [
    "#separando por categoria\n",
    "OPS10 = base.loc[base['Colun0'] == 10]\n",
    "OPS11 = base.loc[base['Colun0'] == 11]\n",
    "OPS12 = base.loc[base['Colun0'] == 12]\n",
    "OPS13 = base.loc[base['Colun0'] == 13]\n",
    "OPS99 = base.loc[base['Colun0'] == 99]\n",
    "\n",
    "OPS10.dropna(axis=1, how=\"all\",inplace= True)\n",
    "OPS11.dropna(axis=1, how=\"all\",inplace= True)\n",
    "OPS12.dropna(axis=1, how=\"all\",inplace= True)\n",
    "OPS13.dropna(axis=1, how=\"all\",inplace= True)\n",
    "OPS99.dropna(axis=1, how=\"all\",inplace= True)"
   ]
  },
  {
   "cell_type": "code",
   "execution_count": null,
   "metadata": {},
   "outputs": [],
   "source": [
    "OPS10.rename(columns={'Colun0': 'tipoRegistro', 'Colun1': 'codOrgao','Colun2': 'codUnidadeSub','Colun3': 'nroOP',\n",
    "                      'Colun4': 'dtPagamento', 'Colun5': 'vlOP','Colun6': 'especificacaoOP','Colun7': 'cpfRespPgto'\n",
    "                      },inplace= True)\n",
    "\n",
    "OPS11.rename(columns={'Colun0': 'tipoRegistro', 'Colun1': 'codReduzidoOP','Colun2': 'codUnidadeSub','Colun3': 'nroOP',\n",
    "                      'Colun4': 'dtPagamento','Colun5': 'tipoPagamento','Colun6': 'nroEmpenho','Colun7': 'dtEmpenho',\n",
    "                      'Colun8': 'nroLiquidacao','Colun9': 'dtLiquidacao','Colun10': 'codFontRecursos', 'Colun11': 'codCO',\n",
    "                      'Colun12': 'valorFonte','Colun13': 'tipoDocumentoCredor','Colun14': 'nroDocumento','Colun15': 'codOrgaoEmpOP',\n",
    "                      'Colun16': 'codUnidadeEmpOP'\n",
    "                     },inplace= True)\n",
    "\n",
    "OPS12.rename(columns={'Colun0': 'tipoRegistro', 'Colun1': 'codReduzidoOP','Colun2': 'tipoDocumentoOP','Colun3': 'nroDocumento',\n",
    "                      'Colun4': 'codCTB','Colun5': 'codFonteCTB','Colun6': 'descTipoDocumentoOP','Colun7': 'dtEmissao',\n",
    "                      'Colun8': 'vlDocumento'\n",
    "                     },inplace= True)\n",
    "\n",
    "OPS13.rename(columns={'Colun0': 'tipoRegistro', 'Colun1': 'codReduzidoOP','Colun2': 'tipoRetencao','Colun3': 'descricaoRetencao',\n",
    "                      'Colun4': 'vlRetencao'\n",
    "                     },inplace= True)\n",
    "\n",
    "\n",
    "OPS99.rename(columns={'Colun0': 'tipoRegistro'\n",
    "                     },inplace= True)"
   ]
  },
  {
   "cell_type": "code",
   "execution_count": null,
   "metadata": {},
   "outputs": [],
   "source": [
    "unir = pd.concat([OPS10,OPS11,OPS12,OPS13,OPS99])\n",
    "s_unir = r'G:\\Meu Drive\\Bases Dash Câmara BI\\Bases Unidas'\n",
    "unir.to_excel(f\"{s_unir}\\{nameSalvar}_unificado.xlsx\", index=False)"
   ]
  },
  {
   "cell_type": "code",
   "execution_count": 36,
   "metadata": {},
   "outputs": [],
   "source": [
    "# Caminho para os arquivos CSV do AOP\n",
    "caminho_diretorio = r'G:\\Meu Drive\\Bases Dash Câmara BI\\Base Original AOP'\n",
    "retornoDaFunc = unificandoDf(caminho_diretorio)\n",
    "base = retornoDaFunc[0]\n",
    "nameSalvar = retornoDaFunc[1]"
   ]
  },
  {
   "cell_type": "code",
   "execution_count": 40,
   "metadata": {},
   "outputs": [],
   "source": [
    "AOP99 = base.loc[base['Colun0'] == 99]\n",
    "\n",
    "AOP99.rename(columns={'Colun0': 'tipoRegistro'\n",
    "                     },inplace= True)"
   ]
  },
  {
   "cell_type": "code",
   "execution_count": 42,
   "metadata": {},
   "outputs": [
    {
     "name": "stderr",
     "output_type": "stream",
     "text": [
      "<string>:3: SyntaxWarning: invalid escape sequence '\\{'\n",
      "<>:3: SyntaxWarning: invalid escape sequence '\\{'\n",
      "<string>:3: SyntaxWarning: invalid escape sequence '\\{'\n",
      "<>:3: SyntaxWarning: invalid escape sequence '\\{'\n",
      "C:\\Users\\seiff\\AppData\\Local\\Temp\\ipykernel_15968\\3717874113.py:3: SyntaxWarning: invalid escape sequence '\\{'\n",
      "  unir.to_excel(f\"{s_unir}\\{nameSalvar}_unificado.xlsx\", index=False)\n"
     ]
    }
   ],
   "source": [
    "unir = pd.concat([AOP99])\n",
    "s_unir = r'G:\\Meu Drive\\Bases Dash Câmara BI\\Bases Unidas'\n",
    "unir.to_excel(f\"{s_unir}\\{nameSalvar}_unificado.xlsx\", index=False)"
   ]
  }
 ],
 "metadata": {
  "kernelspec": {
   "display_name": "Python 3",
   "language": "python",
   "name": "python3"
  },
  "language_info": {
   "codemirror_mode": {
    "name": "ipython",
    "version": 3
   },
   "file_extension": ".py",
   "mimetype": "text/x-python",
   "name": "python",
   "nbconvert_exporter": "python",
   "pygments_lexer": "ipython3",
   "version": "3.12.0"
  }
 },
 "nbformat": 4,
 "nbformat_minor": 2
}
